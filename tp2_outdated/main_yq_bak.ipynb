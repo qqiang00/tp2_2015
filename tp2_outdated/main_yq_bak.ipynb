{
 "cells": [
  {
   "cell_type": "code",
   "execution_count": 1,
   "metadata": {
    "colab": {
     "base_uri": "https://localhost:8080/",
     "height": 343
    },
    "colab_type": "code",
    "executionInfo": {
     "elapsed": 29640,
     "status": "ok",
     "timestamp": 1545426757504,
     "user": {
      "displayName": "Qiang YE",
      "photoUrl": "https://lh6.googleusercontent.com/-k-9mYNphfpc/AAAAAAAAAAI/AAAAAAAAARQ/zyID3sFntfM/s64/photo.jpg",
      "userId": "15200210150486633975"
     },
     "user_tz": 300
    },
    "id": "oY9T2jrUUGTH",
    "outputId": "46d5c299-4955-4916-a2ad-689ed20265cc"
   },
   "outputs": [
    {
     "name": "stdout",
     "output_type": "stream",
     "text": [
      "Go to this URL in a browser: https://accounts.google.com/o/oauth2/auth?client_id=947318989803-6bn6qk8qdgf4n4g3pfee6491hc0brc4i.apps.googleusercontent.com&redirect_uri=urn%3Aietf%3Awg%3Aoauth%3A2.0%3Aoob&scope=email%20https%3A%2F%2Fwww.googleapis.com%2Fauth%2Fdocs.test%20https%3A%2F%2Fwww.googleapis.com%2Fauth%2Fdrive%20https%3A%2F%2Fwww.googleapis.com%2Fauth%2Fdrive.photos.readonly%20https%3A%2F%2Fwww.googleapis.com%2Fauth%2Fpeopleapi.readonly&response_type=code\n",
      "\n",
      "Enter your authorization code:\n",
      "··········\n",
      "Mounted at /content/drive/\n",
      " example.bed\n",
      " GCF_000002985.6_WBcel235_rna.fna.gz\n",
      " graph_yq.ipynb\n",
      " graph_yq.py\n",
      " ift2015-travail-pratique-2.pdf\n",
      "'Introduction aux formats de fichiers et algorithmes utilisés dans le TP2_copy.ipynb'\n",
      " main_yq_bak.ipynb\n",
      " main_yq.ipynb\n",
      " Note_BinarySearchTree.ipynb\n",
      " __pycache__\n",
      " reads.fastq.gz\n",
      " TP2_JX_colab.ipynb\n"
     ]
    }
   ],
   "source": [
    "from google.colab import drive\n",
    "drive.mount('/content/drive/')\n",
    "import os\n",
    "os.chdir(\"drive/My Drive/Colab Notebooks/IFT2015/\")\n",
    "#check if you are in the right directory\n",
    "!ls"
   ]
  },
  {
   "cell_type": "markdown",
   "metadata": {
    "colab_type": "text",
    "id": "r_Y84_dQnCu7"
   },
   "source": [
    "## Question 2\n",
    "\n",
    "### a) Encoder tous les k-mers des fragments fournis dans le fichier FASTQ dans une instance du graphe De Brujin. Chaque fragment possède l − k + 1 k-mers.\n",
    "\n",
    "### Answer a)\n",
    "**Step1**: Import `DeBrujinGraph` implemented in question1 and other necessary modules"
   ]
  },
  {
   "cell_type": "code",
   "execution_count": 26,
   "metadata": {
    "colab": {},
    "colab_type": "code",
    "id": "BTs9HFZjUKoH"
   },
   "outputs": [],
   "source": [
    "import gzip\n",
    "from itertools import islice\n",
    "from graph_yq import DeBrujinGraph\n",
    "import time"
   ]
  },
  {
   "cell_type": "markdown",
   "metadata": {
    "colab_type": "text",
    "id": "trFjIG0xnCvA"
   },
   "source": [
    "**Step2**: Use the method `read_fastq` provided to load sequences from file: 'reads.fastq.gz' and generate possible k-mers with k = 21."
   ]
  },
  {
   "cell_type": "code",
   "execution_count": 0,
   "metadata": {
    "colab": {},
    "colab_type": "code",
    "id": "dGoQZDBxU4y9"
   },
   "outputs": [],
   "source": [
    "def read_fastq(path):\n",
    "    with gzip.open(path, 'rt') as f:\n",
    "        for line in f:\n",
    "            seqid, description = line[1:].rstrip().split(maxsplit = 1)\n",
    "            sequence = f.readline().rstrip()\n",
    "            _ = f.readline()\n",
    "            quality = f.readline().rstrip()\n",
    "            yield seqid, description, sequence, quality"
   ]
  },
  {
   "cell_type": "code",
   "execution_count": 0,
   "metadata": {
    "colab": {},
    "colab_type": "code",
    "id": "56NajVr8VNI3"
   },
   "outputs": [],
   "source": [
    "k = 21\n",
    "kmers = []"
   ]
  },
  {
   "cell_type": "code",
   "execution_count": 6,
   "metadata": {
    "colab": {
     "base_uri": "https://localhost:8080/",
     "height": 53
    },
    "colab_type": "code",
    "executionInfo": {
     "elapsed": 4233,
     "status": "ok",
     "timestamp": 1545426782735,
     "user": {
      "displayName": "Qiang YE",
      "photoUrl": "https://lh6.googleusercontent.com/-k-9mYNphfpc/AAAAAAAAAAI/AAAAAAAAARQ/zyID3sFntfM/s64/photo.jpg",
      "userId": "15200210150486633975"
     },
     "user_tz": 300
    },
    "id": "QyEr1mjtVQAu",
    "outputId": "245049d5-0ff8-42bb-e29e-858c96854b9f"
   },
   "outputs": [
    {
     "name": "stdout",
     "output_type": "stream",
     "text": [
      "CPU times: user 2.54 s, sys: 725 ms, total: 3.26 s\n",
      "Wall time: 3.83 s\n"
     ]
    }
   ],
   "source": [
    "%%time\n",
    "for _, _, seq, _ in read_fastq('reads.fastq.gz'):\n",
    "    kmers.extend([seq[i:i+k] for i in range(len(seq) - k + 1)])"
   ]
  },
  {
   "cell_type": "markdown",
   "metadata": {
    "colab_type": "text",
    "id": "VDsfYWiynCvJ"
   },
   "source": [
    "**Step3**: Build an instance of `DeBrujinGraph` based on all k-mers."
   ]
  },
  {
   "cell_type": "code",
   "execution_count": 7,
   "metadata": {
    "colab": {
     "base_uri": "https://localhost:8080/",
     "height": 125
    },
    "colab_type": "code",
    "executionInfo": {
     "elapsed": 1861752,
     "status": "ok",
     "timestamp": 1545428649342,
     "user": {
      "displayName": "Qiang YE",
      "photoUrl": "https://lh6.googleusercontent.com/-k-9mYNphfpc/AAAAAAAAAAI/AAAAAAAAARQ/zyID3sFntfM/s64/photo.jpg",
      "userId": "15200210150486633975"
     },
     "user_tz": 300
    },
    "id": "KrViQrjJVWue",
    "outputId": "ebd5f30e-7dc0-4897-f042-4da661546aa4",
    "scrolled": false
   },
   "outputs": [
    {
     "name": "stdout",
     "output_type": "stream",
     "text": [
      "1545426787.6845381\n",
      "8627600\n",
      "building nodes...\n",
      "building edges...\n",
      "CPU times: user 30min 52s, sys: 9.26 s, total: 31min 1s\n",
      "Wall time: 31min 1s\n"
     ]
    }
   ],
   "source": [
    "%%time\n",
    "length = len(kmers) # min(20000, len(kmers))\n",
    "print(length)\n",
    "graph = DeBrujinGraph(nodes = kmers[:length], k = 21)"
   ]
  },
  {
   "cell_type": "markdown",
   "metadata": {
    "colab_type": "text",
    "id": "Y8S5gg1nnCvL"
   },
   "source": [
    "**Step4**: View the node and edge counts of the graph generated."
   ]
  },
  {
   "cell_type": "code",
   "execution_count": 8,
   "metadata": {
    "colab": {
     "base_uri": "https://localhost:8080/",
     "height": 53
    },
    "colab_type": "code",
    "executionInfo": {
     "elapsed": 1016,
     "status": "ok",
     "timestamp": 1545428912076,
     "user": {
      "displayName": "Qiang YE",
      "photoUrl": "https://lh6.googleusercontent.com/-k-9mYNphfpc/AAAAAAAAAAI/AAAAAAAAARQ/zyID3sFntfM/s64/photo.jpg",
      "userId": "15200210150486633975"
     },
     "user_tz": 300
    },
    "id": "Bqi3NTqDgDn4",
    "outputId": "2490371a-dc6e-4c9f-9b8d-ac0c0c215f80"
   },
   "outputs": [
    {
     "name": "stdout",
     "output_type": "stream",
     "text": [
      "node counts: 5126513\n",
      "edge counts: 5091467\n"
     ]
    }
   ],
   "source": [
    "print(\"node counts:\", graph.node_count())\n",
    "print(\"edge counts:\", graph.edge_count())"
   ]
  },
  {
   "cell_type": "markdown",
   "metadata": {
    "colab_type": "text",
    "id": "siYnyDYBnCvO"
   },
   "source": [
    "### b) Bonus: Implanter une table de hachage plus rapide que celle de CPython (i.e. celle utilisée par set et dict) pour stocker des k-mers pour les opérations effectuées en 2a.\n",
    "\n",
    "### Answer b)\n",
    "\n",
    "\n",
    "\n",
    "<hr>"
   ]
  },
  {
   "cell_type": "markdown",
   "metadata": {
    "colab_type": "text",
    "id": "58eG_UjrY2Au"
   },
   "source": [
    "## Question 3 \n",
    "\n",
    "### a)  Parcourir le graphe pour obtenir des segments contigüs que vous devrez stocker dans un fichier FASTA nommé contigs.fa avec un identifiant unique pour chacun. \n",
    "Commencer par identifier les noeuds qui n’ont pas de prédécesseurs pour débuter l’exploration.\n",
    "\n",
    "Alternativement, vous pouvez explorer le graphe dans les deux directions en partant d’un point aléatoire sur chaque composante connexe.\n",
    "\n",
    "### Answer a)\n",
    "\n",
    "**Step1**: Implement deep first search and breadth first search methods `DFS`, `DFS_complete`, `BFS`; these methods will be used to explore the connected components of the graph."
   ]
  },
  {
   "cell_type": "code",
   "execution_count": 0,
   "metadata": {
    "colab": {},
    "colab_type": "code",
    "id": "jcsEEe8yY0_n"
   },
   "outputs": [],
   "source": [
    "def DFS(g, u, discovered, dest_nodes):\n",
    "    \"\"\"deep first search of a graph.\n",
    "    params\n",
    "        g: a graph\n",
    "        u: a node of graph g\n",
    "        discovered: a dictionary marking where a edge is visited\n",
    "    return\n",
    "        None, discovered dict will be modified\n",
    "    \"\"\"\n",
    "    for v in g.successors( u ):\n",
    "        if v not in discovered:\n",
    "            discovered[v] = u # u represents parent node of v\n",
    "                              # v carries the edge information v[-1]\n",
    "            dest_nodes.add(v)\n",
    "            dest_nodes.discard(u)\n",
    "            DFS( g, v, discovered, dest_nodes )\n",
    "            \n",
    "            \n",
    "def BFS(g, s, discovered, dest_nodes):\n",
    "    level = [s]\n",
    "    while len(level) > 0:\n",
    "        next_level = []\n",
    "        for u in level:\n",
    "            for v in g.successors(u):\n",
    "                if v not in discovered:\n",
    "                    discovered[v] = u\n",
    "                    dest_nodes.add(v)\n",
    "                    dest_nodes.discard(u)\n",
    "                    next_level.append(v)\n",
    "        level = next_level\n",
    "        \n",
    "            \n",
    "def DFS_complete(g):\n",
    "    \"\"\"use DFS to return a forest with connected components\n",
    "    params\n",
    "        g: graph\n",
    "    returns\n",
    "        forest: dict, if value of a key is None, this key has no\n",
    "    predecessors, therefore it is a root of a tree in the forest\n",
    "    \"\"\"\n",
    "    forest = {}\n",
    "    dest_nodes = set()\n",
    "    for u in g:\n",
    "        if u not in forest:\n",
    "            forest[u] = None\n",
    "            DFS(g, u, forest, dest_nodes)\n",
    "    return forest, dest_nodes\n",
    "\n",
    "            \n",
    "def build_segments(g, u, discovered, segments):\n",
    "    \"\"\"build segments\n",
    "    \"\"\"\n",
    "    for v in g.successors(u):\n",
    "        if v not in discovered:\n",
    "            discoverd[v] = v[-1]\n",
    "            segments[-1] += v[-1]\n",
    "            DFS(g, v, discovered, segments)\n",
    "        else:\n",
    "            \n",
    "            "
   ]
  },
  {
   "cell_type": "markdown",
   "metadata": {
    "colab_type": "text",
    "id": "6GdqpFocnCvT"
   },
   "source": [
    "**Step2**: Implement method `find_nodes` for finding nodes without predecessors or without successors."
   ]
  },
  {
   "cell_type": "code",
   "execution_count": 0,
   "metadata": {
    "colab": {},
    "colab_type": "code",
    "id": "M5TZWArTZ_qq"
   },
   "outputs": [],
   "source": [
    "# find the nodes who have no predecessors\n",
    "def find_end_nodes(g, is_origin = True):\n",
    "    \"\"\"find all nodes without predecessors or without successors controled by\n",
    "    a bool parameter\n",
    "    params\n",
    "        g: graph\n",
    "        has_no_predecessors: bool, if True, find all nodes without predecessors,\n",
    "            If False, find all nodes without successors\n",
    "    returns\n",
    "        results, list of nodes\n",
    "    \"\"\"\n",
    "    results = []\n",
    "    func = g.predecessors\n",
    "    if is_origin == False:\n",
    "        func = g.successors\n",
    "    for node in g.nodes():\n",
    "        if len(func(node)) == 0: # no predecessors\n",
    "            results.append(node)\n",
    "    return results           "
   ]
  },
  {
   "cell_type": "markdown",
   "metadata": {
    "colab_type": "text",
    "id": "_miCpf_RnCvW"
   },
   "source": [
    "**Step3**: There might be cycles in a DeBrujin graph, which may lead to a phenomenon that all nodes have predecessors or successors. Here are the three possible cases for a DeBrujin graph:\n",
    "\n",
    "1. One or more nodes have no predecessors, one or more nodes have successors\n",
    "2. No node has no predecessors, one or more nodes have successors\n",
    "3. No node has no predecessors; no node has no successors\n",
    "\n",
    "First, let's consider case1. We can find all possible paths by starting from a node without predecessors and ended to its accessible node who has no successors. Based on the paths found, a continuous sequence will be assembled."
   ]
  },
  {
   "cell_type": "code",
   "execution_count": 0,
   "metadata": {
    "colab": {},
    "colab_type": "code",
    "id": "0dtrOWhmnCvX"
   },
   "outputs": [],
   "source": [
    "def build_segment( g, u, v, discovered ):\n",
    "    \"\"\"build a fragment from node u to v based on the discovered paths in graph\n",
    "    params\n",
    "        g: graph\n",
    "        u: start node of a fragment, str\n",
    "        v: end node of a fragment, str\n",
    "        discovered: dictionary from a deep first search of a graph g\n",
    "    returns\n",
    "        segment: str\n",
    "    \"\"\"\n",
    "    visited = set()\n",
    "    if u is None: # there is no start nodes\n",
    "        pass\n",
    "    \n",
    "    segment = []\n",
    "    if v in discovered:\n",
    "        walk = v\n",
    "        while walk is not u:\n",
    "            parent = discovered[walk]\n",
    "            segment.append(walk[-1])\n",
    "            walk = parent\n",
    "        # walk is now u\n",
    "        \n",
    "    segment.reverse()\n",
    "    segment = u + \"\".join(segment)\n",
    "    return segment"
   ]
  },
  {
   "cell_type": "code",
   "execution_count": 0,
   "metadata": {
    "colab": {},
    "colab_type": "code",
    "id": "NSr71Y7Cfbbu"
   },
   "outputs": [],
   "source": [
    "def generate_segments(g, origin_nodes):\n",
    "    segments = []\n",
    "    for origin_node in origin_nodes:\n",
    "        discovered = {origin_node: '-'}\n",
    "        dest_nodes = set(origin_node)\n",
    "        DFS(graph, origin_node, discovered, dest_nodes)\n",
    "        #BFS(graph, origin_node, discovered, dest_nodes)\n",
    "        for dest_node in dest_nodes:\n",
    "            segment = build_segment(graph, origin_node, dest_node, discovered)\n",
    "            segments.append(segment)\n",
    "    \n",
    "    return segments"
   ]
  },
  {
   "cell_type": "markdown",
   "metadata": {
    "colab_type": "text",
    "id": "Ak84CIpFFfOC"
   },
   "source": [
    "use small graph to experiment"
   ]
  },
  {
   "cell_type": "code",
   "execution_count": 27,
   "metadata": {
    "colab": {
     "base_uri": "https://localhost:8080/",
     "height": 53
    },
    "colab_type": "code",
    "executionInfo": {
     "elapsed": 487,
     "status": "ok",
     "timestamp": 1545434964803,
     "user": {
      "displayName": "Qiang YE",
      "photoUrl": "https://lh6.googleusercontent.com/-k-9mYNphfpc/AAAAAAAAAAI/AAAAAAAAARQ/zyID3sFntfM/s64/photo.jpg",
      "userId": "15200210150486633975"
     },
     "user_tz": 300
    },
    "id": "aQkCldRuFfBz",
    "outputId": "45391246-a328-4f09-d4e4-17c48a758224"
   },
   "outputs": [
    {
     "name": "stdout",
     "output_type": "stream",
     "text": [
      "building nodes...\n",
      "building edges...\n"
     ]
    }
   ],
   "source": [
    "import random\n",
    "def random_kmer(k):\n",
    "    return ''.join(random.choices(\"ATCG\", k = k))\n",
    "\n",
    "k = 5\n",
    "k_mers = [random_kmer(k) for i in range(200)]\n",
    "graph2 = DeBrujinGraph(nodes = k_mers, k = k)"
   ]
  },
  {
   "cell_type": "code",
   "execution_count": 56,
   "metadata": {
    "colab": {
     "base_uri": "https://localhost:8080/",
     "height": 35
    },
    "colab_type": "code",
    "executionInfo": {
     "elapsed": 367,
     "status": "ok",
     "timestamp": 1545434999927,
     "user": {
      "displayName": "Qiang YE",
      "photoUrl": "https://lh6.googleusercontent.com/-k-9mYNphfpc/AAAAAAAAAAI/AAAAAAAAARQ/zyID3sFntfM/s64/photo.jpg",
      "userId": "15200210150486633975"
     },
     "user_tz": 300
    },
    "id": "4hwWsI1_GjPc",
    "outputId": "bd0c2bc6-b41b-48d6-ca88-2dad2bcb1d35"
   },
   "outputs": [
    {
     "name": "stdout",
     "output_type": "stream",
     "text": [
      "138\n"
     ]
    }
   ],
   "source": [
    "print(graph2.edge_count())"
   ]
  },
  {
   "cell_type": "code",
   "execution_count": 37,
   "metadata": {
    "colab": {
     "base_uri": "https://localhost:8080/",
     "height": 53
    },
    "colab_type": "code",
    "executionInfo": {
     "elapsed": 291466,
     "status": "ok",
     "timestamp": 1545432624940,
     "user": {
      "displayName": "Qiang YE",
      "photoUrl": "https://lh6.googleusercontent.com/-k-9mYNphfpc/AAAAAAAAAAI/AAAAAAAAARQ/zyID3sFntfM/s64/photo.jpg",
      "userId": "15200210150486633975"
     },
     "user_tz": 300
    },
    "id": "x68hlDCs7opz",
    "outputId": "19e6fa0d-0b7a-48d4-9b0f-e0a995e8ed2f"
   },
   "outputs": [
    {
     "name": "stdout",
     "output_type": "stream",
     "text": [
      "CPU times: user 4min 50s, sys: 32 ms, total: 4min 50s\n",
      "Wall time: 4min 50s\n"
     ]
    }
   ],
   "source": [
    "%%time\n",
    "origin_nodes = find_end_nodes(graph, is_origin = True)"
   ]
  },
  {
   "cell_type": "code",
   "execution_count": 0,
   "metadata": {
    "colab": {},
    "colab_type": "code",
    "id": "h1ot5uUF-WAv"
   },
   "outputs": [],
   "source": [
    "import sys\n",
    "sys.getrecursionlimit()\n",
    "sys.setrecursionlimit(10000)"
   ]
  },
  {
   "cell_type": "code",
   "execution_count": 46,
   "metadata": {
    "colab": {
     "base_uri": "https://localhost:8080/",
     "height": 71
    },
    "colab_type": "code",
    "executionInfo": {
     "elapsed": 338231,
     "status": "ok",
     "timestamp": 1545433193612,
     "user": {
      "displayName": "Qiang YE",
      "photoUrl": "https://lh6.googleusercontent.com/-k-9mYNphfpc/AAAAAAAAAAI/AAAAAAAAARQ/zyID3sFntfM/s64/photo.jpg",
      "userId": "15200210150486633975"
     },
     "user_tz": 300
    },
    "id": "1_XqGkShU_yP",
    "outputId": "4de1d97d-9f94-4738-b7bc-410f4983ec9d"
   },
   "outputs": [
    {
     "name": "stdout",
     "output_type": "stream",
     "text": [
      "199640\n",
      "CPU times: user 5min 37s, sys: 97 ms, total: 5min 37s\n",
      "Wall time: 5min 37s\n"
     ]
    }
   ],
   "source": [
    "%%time\n",
    "segments = generate_segments(graph, origin_nodes)\n",
    "print(len(segments))"
   ]
  },
  {
   "cell_type": "code",
   "execution_count": 28,
   "metadata": {
    "colab": {
     "base_uri": "https://localhost:8080/",
     "height": 3637
    },
    "colab_type": "code",
    "executionInfo": {
     "elapsed": 287,
     "status": "ok",
     "timestamp": 1545431974540,
     "user": {
      "displayName": "Qiang YE",
      "photoUrl": "https://lh6.googleusercontent.com/-k-9mYNphfpc/AAAAAAAAAAI/AAAAAAAAARQ/zyID3sFntfM/s64/photo.jpg",
      "userId": "15200210150486633975"
     },
     "user_tz": 300
    },
    "id": "6aQtDoM5nCvf",
    "outputId": "7288bbc1-1665-468c-c626-4c47796cc090"
   },
   "outputs": [
    {
     "name": "stdout",
     "output_type": "stream",
     "text": [
      "21 AACGAAGATCGGATACACGTA\n",
      "21 AACGAAGATCGGATACACGTA\n",
      "21 AACGAAGATCGGATACACGTA\n",
      "21 AACGAAGATCGGATACACGTA\n",
      "100 AACGAAGATCGGATACACGTACACCGACTCGAGTGCGCGTCTGATGGTGGAATTCTCGATATGGATGATGTTTTAGAAGAAGTTTTTGATTTGAATTATG\n",
      "21 AAACAAATCATTGGCTAGCAG\n",
      "21 AAACAAATCATTGGCTAGCAG\n",
      "21 AAACAAATCATTGGCTAGCAG\n",
      "147 AAACAAATCATTGGCTAGCAGCCGGTCGTCAACCATATTTGGACCATTATTCGCCGGAAACACTCCGGACACAATGGGCGGCACTTTGTGACGTCGTAGATCAAGTTCACTCGTTCTGCGGTGGCCGTTTCCCGTGTGACCTGGTAC\n",
      "21 AAACAAATCATTGGCTAGCAG\n",
      "21 ACAGCAACGTCAAGCGGGTTC\n",
      "100 ACAGCAACGTCAAGCGGGTTCTTCATCGCGAGCAGTTCCACCTGCATCTGCATCCACGTCAGCAGCTTCTGGAATCACGGATTTGAGTATGGCAGATAAG\n",
      "21 ACAGCAACGTCAAGCGGGTTC\n",
      "21 ACAGCAACGTCAAGCGGGTTC\n",
      "21 ACAGCAACGTCAAGCGGGTTC\n",
      "21 TCAAGCAGAAGAGACTTTGAA\n",
      "100 TCAAGCAGAAGAGACTTTGAAGAAAAATCAAATCGGAAAAATTTGCACTACTTTCAAATATTCAGAGCTCGGAAAGTCTGTGTTCAAAGAGTCTAGTGGT\n",
      "21 TCAAGCAGAAGAGACTTTGAA\n",
      "21 TCAAGCAGAAGAGACTTTGAA\n",
      "21 TCAAGCAGAAGAGACTTTGAA\n",
      "154 CACCTCTGAATACTGTAGAAAGGTATGATCCTCGAGTTGGAAAGTGGGAAGAAGTTCGACCGATGCTAACCAAACGAAAGCATCTTGGAACAGCGGTTTATGATGGATACATTTATGCGGTTGGTGGAAGAGATACCACTACAGAACTCAACAC\n",
      "21 CACCTCTGAATACTGTAGAAA\n",
      "21 CACCTCTGAATACTGTAGAAA\n",
      "21 CACCTCTGAATACTGTAGAAA\n",
      "21 CACCTCTGAATACTGTAGAAA\n",
      "21 GTGTGTCGAAGTTTACGGAGT\n",
      "21 GTGTGTCGAAGTTTACGGAGT\n",
      "140 GTGTGTCGAAGTTTACGGAGTGCAATTGATAAAAGCGTTCATTTCAACAAAATCTCAATTGAATTGTGGAGTAACAGCGTTTTGTTAGATTTTGACGGAATTAAAATCACCCACTCTGCTCGATTCAATGGTGGATCATA\n",
      "21 GTGTGTCGAAGTTTACGGAGT\n",
      "124 GTGTGTCGAAGTTTACGGAGTGCAATTGATAAAAGCGTTCATTTCAACAAAATCTCAATTGAATTAGAGAATCACGACGTCTTGATAGATTTCGACGGAATTGAAATCACCTACCGTGATGCAC\n",
      "21 GTGTGTCGAAGTTTACGGAGT\n",
      "100 GATAAAACGAGAGATGAGCTGGAAGGCCAATTCTCTTCGCTACGGGATCATTGCTGTGTCAAGTGTCTCCGCATTTGCAGGACTTGCCTATTCGTTCCTA\n",
      "21 GATAAAACGAGAGATGAGCTG\n",
      "21 GATAAAACGAGAGATGAGCTG\n",
      "21 GATAAAACGAGAGATGAGCTG\n",
      "21 GATAAAACGAGAGATGAGCTG\n",
      "21 ATGATGTATTACCGCCGACGT\n",
      "21 ATGATGTATTACCGCCGACGT\n",
      "21 ATGATGTATTACCGCCGACGT\n",
      "100 ATGATGTATTACCGCCGACGTTTGATGTCTTCTGTCAGAAGGCTCTCGACACAAAAGTTCATTGGCAATTGTTTTGTTGTCTACTTTTTTAGCGCTGTTG\n",
      "21 ATGATGTATTACCGCCGACGT\n",
      "100 CTGACCTACGTTATCGCCTTTTTCTCGACTCTGGTTGTCTGGGCGACACGAAGGACTTTAACAAAAAGCAAGTATGGCTCACAAGATGACAAACTCGGAA\n",
      "21 CTGACCTACGTTATCGCCTTT\n",
      "21 CTGACCTACGTTATCGCCTTT\n",
      "21 CTGACCTACGTTATCGCCTTT\n",
      "21 CTGACCTACGTTATCGCCTTT\n",
      "21 TCAAAAAAACATCGGAGCTGT\n",
      "21 TCAAAAAAACATCGGAGCTGT\n",
      "21 TCAAAAAAACATCGGAGCTGT\n",
      "100 TCAAAAAAACATCGGAGCTGTCTTCACCTGAAACTTCAATTTCTCTACAATTTCTTTCCTACTACGAATCCATTTTGGTCGATTTTGGTGATCAAATTCA\n",
      "21 TCAAAAAAACATCGGAGCTGT\n",
      "206 ACTCCTGCCGTTAAACACCTTATCAGAGGCGGGCTGCCTATTCATCGAAGCCCGTCTTCTCGGTGGTCCAGGCAACATCATATCACAGATTGGGCTCACAGTTGATGCTCCAAACACTTCTATAGCGGTTTTCTCTCGTACAAGTGGGGTTCTGCTCGTCGCCGGTGTAGGATCATTCTTCGCTTATCGAGTTGCATCGAATCTTC\n",
      "21 ACTCCTGCCGTTAAACACCTT\n",
      "21 ACTCCTGCCGTTAAACACCTT\n",
      "21 ACTCCTGCCGTTAAACACCTT\n",
      "21 ACTCCTGCCGTTAAACACCTT\n",
      "21 ACTAACAAAGAATTTCGAAAT\n",
      "127 ACTAACAAAGAATTTCGAAATCAACAGAAGGACTACGTGCAGCAGCTGAGAAGGCATCCGATGGATTGAAGCGGCAAAAACGAGAGAAATATAATTGCTAGAAGAGAGACGCAGAGTGCGGAGACAT\n",
      "21 ACTAACAAAGAATTTCGAAAT\n",
      "21 ACTAACAAAGAATTTCGAAAT\n",
      "21 ACTAACAAAGAATTTCGAAAT\n",
      "21 GTCCCATGGACCTCTACGGTG\n",
      "168 GTCCCATGGACCTCTACGGTGCTCCCAGGACCCACTTTATCGGAAAAAGTACGAGCAAAACGCGAGGAGCTCGACGATTTCTTCTACAGCCAAATTGATGAGCACCGGAATGAGATTGACTTTGACAATACGGAAAATCTAGATTTTGTTGAAGCCTATCTCAAAGAG\n",
      "21 GTCCCATGGACCTCTACGGTG\n",
      "21 GTCCCATGGACCTCTACGGTG\n",
      "21 GTCCCATGGACCTCTACGGTG\n",
      "21 GATTCGAAGATATTAAACAAG\n",
      "21 GATTCGAAGATATTAAACAAG\n",
      "21 GATTCGAAGATATTAAACAAG\n",
      "107 GATTCGAAGATATTAAACAAGACTTCCTGAAAGTAATGACAGGCCAGCAGCAGTCGCCGCCACGATGGAAGGACTGTGCTCAGGTCCCGTCGACAGTCCTACCGCTA\n",
      "21 GATTCGAAGATATTAAACAAG\n",
      "79 TACCAGGGTCCTCCACCACCACAGCAACAGCAACAGCAACAACAACAGCAAAACCAGGCACTAATCTCATCTCCACACA\n",
      "21 TACCAGGGTCCTCCACCACCA\n",
      "45 TACCAGGGTCCTCCACCACCACAGCAACAGCAACAGCAACAACAG\n",
      "21 TACCAGGGTCCTCCACCACCA\n",
      "77 TACCAGGGTCCTCCACCACCACAGCAACAGCAACAGCAACAACAACAGCAAATTCAACACCTTCAACAGCAGCAAGC\n",
      "100 TACCAGGGTCCTCCACCACCACAGCAACAGCAACAGCAACAACCGCAGCAACAACAATTCTCCGGAGAGCAAAGTCGCCCACAATCACATCCGAATAGTC\n",
      "21 TACCAGGGTCCTCCACCACCA\n",
      "160 TACCAGGGTCCTCCACCACCACAGCAACAGCAACAGCAACAACAACAGAAACTAAACCAACTCCAGCCACCCCATAATCCATCATTATCAACTGCTCCATCATCATCTTCAACTGCTCGCCTCTTTGCTAGTGAACTCACACAGACACCTTCCGTCGTGT\n",
      "21 TACCAGGGTCCTCCACCACCA\n",
      "72 TACCAGGGTCCTCCACCACCACAGCAACAGCAACAGCAACAACAACATCAGCAGCAATCACGGTCAGCGCCA\n",
      "129 TACCAGGGTCCTCCACCACCACAGCAACAGCAACAGCAACAACAACAGAAACTAAACCAACTCCAGCCACCCCATAATCCATCATTATCAACTGCTCCATCATCATCTTCAGCCCAACCACCAACAATG\n",
      "21 TTGCATTCACTCCACTGCCTC\n",
      "107 TTGCATTCACTCCACTGCCTCTTGGACCTCTTCGTGTGAGAGACATTGCAACACACTATTATCATTCCATTTGTATTACGGAAGACAATAGAGTTTTTGAATGGGGT\n",
      "21 TTGCATTCACTCCACTGCCTC\n",
      "21 TTGCATTCACTCCACTGCCTC\n",
      "21 TTGCATTCACTCCACTGCCTC\n",
      "21 AGCGAAAAACGATAGAAAACG\n",
      "21 AGCGAAAAACGATAGAAAACG\n",
      "122 AGCGAAAAACGATAGAAAACGCGAGAGAAGTCCTAGTGGCTCCGTGGCTCCGTCTGTTCGTCGTGAATCTGCTAGTCCACCAAGGCGGCGTGCAAGAATCATTCCTCGCTACGAGTGCCGTG\n",
      "21 AGCGAAAAACGATAGAAAACG\n",
      "21 AGCGAAAAACGATAGAAAACG\n",
      "21 AAAAACTAAAAACCTTCCTGC\n",
      "21 AAAAACTAAAAACCTTCCTGC\n",
      "117 AAAAACTAAAAACCTTCCTGCTGGGCACCGGGACGACATTGGATCCCTCGCTTGACCCAACCGGGAATTCGAATTTCTCAATGGCCACCACATCAGATTCCTCCACGATTTGGACGG\n",
      "21 AAAAACTAAAAACCTTCCTGC\n",
      "21 AAAAACTAAAAACCTTCCTGC\n",
      "21 GTCATATCTAAAGATGCAATC\n",
      "21 GTCATATCTAAAGATGCAATC\n",
      "21 GTCATATCTAAAGATGCAATC\n",
      "100 GTCATATCTAAAGATGCAATCAATCGTTTGACAACAAGCATTCGTCAGCAAAGAAATAGTTCGAGACTCTCAAAATTCAAATGCCCGTATTGCCCACGCG\n",
      "21 GTCATATCTAAAGATGCAATC\n",
      "21 ACTGTCTAACAATTGTTCCAG\n",
      "21 ACTGTCTAACAATTGTTCCAG\n",
      "21 ACTGTCTAACAATTGTTCCAG\n",
      "21 ACTGTCTAACAATTGTTCCAG\n",
      "109 ACTGTCTAACAATTGTTCCAGGCAGTGGACAGGGCTCAACAATAAATGACTTGTCATGTGGGAATACTCAACTTATTCTGGGATTTGTTTGTGGTTATCAACTTGAAGA\n",
      "177 GAAAAGTAGACGAAATTGCGGCAAAGATGGTTACTGAAGAAATTCATTTCACAATTCATCTGTGTTCTCATTCGCAGAAAAATGTGATCGAAATCTTCCAATCTGCTTATTCCAATGGTTATACAGAAAAGGATAAAAAGGGAAAAATTCCAGAAGGGGGTAAAGTCAAGTGTGCTG\n",
      "21 GAAAAGTAGACGAAATTGCGG\n",
      "21 GAAAAGTAGACGAAATTGCGG\n",
      "21 GAAAAGTAGACGAAATTGCGG\n",
      "61 GAAAAGTAGACGAAATTGCGGCAAAGATGGCTACGGAAGAGATTCATTTCACAATTCATCT\n",
      "21 GAAAAGTAGACGAAATTGCGG\n",
      "85 GAAAAGTAGACGAAATTGCGGCAAAGATGGTTACTGAAGAAATTCATTTCACAATTCATCTGAGCTCTCACTCGCAAAAAAATGT\n",
      "100 AAGAATCTGAAAAGGCAGGAATTTCAAGCACCAATAAAACTAGAAACTCCGAAACTGGATGCTTTGTTCAAACTGTGCAATGTGCATCAAAAGTTCCCGA\n",
      "21 AAGAATCTGAAAAGGCAGGAA\n",
      "21 AAGAATCTGAAAAGGCAGGAA\n",
      "21 AAGAATCTGAAAAGGCAGGAA\n",
      "21 AAGAATCTGAAAAGGCAGGAA\n",
      "21 CGCAACAATAACGAGTTACTT\n",
      "21 CGCAACAATAACGAGTTACTT\n",
      "138 CGCAACAATAACGAGTTACTTGCCGAAGTTGTGACTGCTTTTGAAGAGAAAGCAGCGCTTGATTTTCATTATTCGAAAACATTGAAAAAGATATCAATTCGGTTGCATAAATTGACACAAAGCGTTGAATCAGGTATC\n",
      "21 CGCAACAATAACGAGTTACTT\n",
      "21 CGCAACAATAACGAGTTACTT\n",
      "100 AATGGGATCTACGGAAGCAAGCAGTACATCAGGTGGTAGTAGTACTTCCCCCAACCCATCTCAATCTACTAGTCCGTCTACTTCCGGCGCTACCTCATCG\n",
      "21 AATGGGATCTACGGAAGCAAG\n",
      "21 AATGGGATCTACGGAAGCAAG\n",
      "21 AATGGGATCTACGGAAGCAAG\n",
      "21 AATGGGATCTACGGAAGCAAG\n",
      "21 ACACAATCCCCGCTGGAACTC\n",
      "100 ACACAATCCCCGCTGGAACTCTCAAATCACGTTTCCGATTCCGACTTCCAGAAAATTCTCCGCCAAGTTTTTGCGGAATGTTTGGAGAAATTGAGTATTC\n",
      "21 ACACAATCCCCGCTGGAACTC\n",
      "21 ACACAATCCCCGCTGGAACTC\n",
      "21 ACACAATCCCCGCTGGAACTC\n",
      "21 GAATCACTTTCCCACAGGCCA\n",
      "21 GAATCACTTTCCCACAGGCCA\n",
      "21 GAATCACTTTCCCACAGGCCA\n",
      "202 GAATCACTTTCCCACAGGCCAACATTTTTGTGAAAGCAGTAATTAATAACACTGTCACCGATATCTCAAAGAAATTCGCCGACAACGCTGATCAGTTCAAAAATGATTTCAACATTCTTCTGAACACTGCAACTTTCTACAACGCATTGTCTTTCAAATTTGCTGATGTTTTGGCACAGTCGATTGCAAATTTCAAAACAGG\n",
      "21 GAATCACTTTCCCACAGGCCA\n",
      "118 AAAAGCCGAGAATCGATGCTGCCAAAACGCAAACGGTTGATCTCTACGACCAAGTAAAAAAGCTCCAAGGAGAAGTTGCCGTGCTGAAAAGTCAATTGGACTCTGTTTCCTCATCAAA\n",
      "21 AAAAGCCGAGAATCGATGCTG\n",
      "21 AAAAGCCGAGAATCGATGCTG\n",
      "21 AAAAGCCGAGAATCGATGCTG\n",
      "21 AAAAGCCGAGAATCGATGCTG\n",
      "21 TCGGCTATGAGCTTTTTCGTT\n",
      "100 TCGGCTATGAGCTTTTTCGTTATGCAAAGAATCGTCACCGACGGGTCCTCAATCCTCGTCATCCCAACCGGACCATGCACTCACCTCGGACCAACCGCTT\n",
      "21 TCGGCTATGAGCTTTTTCGTT\n",
      "21 TCGGCTATGAGCTTTTTCGTT\n",
      "21 TCGGCTATGAGCTTTTTCGTT\n",
      "21 ACCTCAACAAAGCCCCGATTC\n",
      "21 ACCTCAACAAAGCCCCGATTC\n",
      "21 ACCTCAACAAAGCCCCGATTC\n",
      "100 ACCTCAACAAAGCCCCGATTCATCACCGGAACGAAATGAAGATATGTCACAATGGTATCGGAAAATGTTCAAACAAATGCATAGAAAGGGAGAAGACGGT\n",
      "21 ACCTCAACAAAGCCCCGATTC\n",
      "21 CGACACTGGTAAAATCGTGGG\n",
      "21 CGACACTGGTAAAATCGTGGG\n",
      "318 CGACACTGGTAAAATCGTGGGCTATGGAACAATTCGAATTGTATCCCAAAACAAGTTGAGCTCAGCACCCTTCTACGCAGATTGTCTAGAAGCCGCTGTGGTTCTTCTGGCAGACCTTCTCAATAATATTCCAAACTGGCAGAAGTATTCGAGCTTCGGATTCTTGTATCCAGAATGCAATCAAGATCCTCTAGCACTACTGGGAAAATTCTCAAAAAGCACCGACCTGATATCTACAGCTCCATTCGTTCGAAGTCAATTCACAAAACATCTGATTCCTACTCCGGACAATAAAGTCTACTCTCTGTCGGACTGTGC\n",
      "21 CGACACTGGTAAAATCGTGGG\n",
      "21 CGACACTGGTAAAATCGTGGG\n",
      "21 CTGCTCTTCTCGTATTTTACG\n",
      "21 CTGCTCTTCTCGTATTTTACG\n",
      "21 CTGCTCTTCTCGTATTTTACG\n",
      "21 CTGCTCTTCTCGTATTTTACG\n",
      "138 CTGCTCTTCTCGTATTTTACGGCTTTCCTGGTGATGGGATATGTTCTCGCGTCCATTGAGCCCAGGCTGGATTGTAGAGCCCCTTACTGGATCTGGTTCTCCACCGGCCAATTCATCATCGTCCAAATGACGCTCGTC\n",
      "100 GCTCAGTGATGATGTTGGAAGTCGTGAAGATACTCCATTGTCCCGTGCTTCATCTACACAGTCGTTAGCTTCAGGATCCGAGCAATCATTCAATTTGGGA\n",
      "21 GCTCAGTGATGATGTTGGAAG\n",
      "21 GCTCAGTGATGATGTTGGAAG\n",
      "21 GCTCAGTGATGATGTTGGAAG\n",
      "21 GCTCAGTGATGATGTTGGAAG\n",
      "100 ATTACAAGGATACTATTCAAAATCCAGATGTTTTCTTCAACGGAGTCAGCAAGCGACTTCTCAATCGGATAGTGGAGTTTGAAATTAGATGCCGTCGATT\n",
      "21 ATTACAAGGATACTATTCAAA\n",
      "21 ATTACAAGGATACTATTCAAA\n",
      "21 ATTACAAGGATACTATTCAAA\n",
      "21 ATTACAAGGATACTATTCAAA\n",
      "21 ATTCGCCTTGACGTCATCTTT\n",
      "21 ATTCGCCTTGACGTCATCTTT\n",
      "21 ATTCGCCTTGACGTCATCTTT\n",
      "188 ATTCGCCTTGACGTCATCTTTATATTTGTCTCAATTTCACTATTATTTGGATCTTCACTCCGATGCTACAGTTGCTCGTTCTCTTTCAACGAGATGTACGATCCGGAGCACAGAGATGCATGGTGTGCGAATGAATCATTAGTACAGTTTGAACCAGATGAGACAGCTAAAATATGTGCTCCGTGGGA\n",
      "21 ATTCGCCTTGACGTCATCTTT\n",
      "96 GGGCTTCAAGGATACTTGCGATTCTCTGCGAAGCTGTCTGGCCAACCTCAAATGCTCACCAGTGCCAAAGGATCAAAAAGAAGCAGCGCTCAGGAG\n",
      "66 GGGCTTCAAGGATACTTGCGATTCTCTGCGAAGCTGTCTGGCCAATCTCAAATGCTCACCAGTGCC\n",
      "21 GGGCTTCAAGGATACTTGCGA\n",
      "21 GGGCTTCAAGGATACTTGCGA\n",
      "104 GGGCTTCAAGGATACTTGCGATTCTCTGCGAAGCTGTCTGGCCAACCTCAAATGCTCACCAGTGCCAAAGGATCAGAAAGAAGCAGCGCTCAGGAGTATAGAAA\n",
      "21 GGGCTTCAAGGATACTTGCGA\n",
      "21 GGGCTTCAAGGATACTTGCGA\n",
      "100 CAAGAATTCATCAGAGAAAAGGAAAAGTTCAGAGTTGAAAAGGAAACGCTCATGAAACAAAAGGAACAAATTGAAGAGATGATGAAGCAAGAAACTATAA\n",
      "21 CAAGAATTCATCAGAGAAAAG\n",
      "21 CAAGAATTCATCAGAGAAAAG\n",
      "21 CAAGAATTCATCAGAGAAAAG\n",
      "21 CAAGAATTCATCAGAGAAAAG\n",
      "21 TCAAGAGATCCAGTAAGGGGG\n",
      "21 TCAAGAGATCCAGTAAGGGGG\n",
      "100 TCAAGAGATCCAGTAAGGGGGAAACGACAAGCAGATGAGGACAAGTTCCATTTGATTCTCAACTCTTTCAACTTTTCTCGTGCCGATTCCTTGATGCTTG\n",
      "21 TCAAGAGATCCAGTAAGGGGG\n",
      "21 TCAAGAGATCCAGTAAGGGGG\n",
      "21 GTGGCGCTTGATCTCCTCTCG\n",
      "100 GTGGCGCTTGATCTCCTCTCGGGACTCGCTGAGTCGTTACCGGAACATATGGATCCCTTGGTGGCAAACAGCAAGCTGGTCGAGTTGATGTTGTTCTGCT\n",
      "21 GTGGCGCTTGATCTCCTCTCG\n",
      "21 GTGGCGCTTGATCTCCTCTCG\n"
     ]
    }
   ],
   "source": [
    "for segment in segments[:200]:\n",
    "    print(len(segment), segment)"
   ]
  },
  {
   "cell_type": "code",
   "execution_count": 48,
   "metadata": {
    "colab": {
     "base_uri": "https://localhost:8080/",
     "height": 455
    },
    "colab_type": "code",
    "executionInfo": {
     "elapsed": 2446,
     "status": "ok",
     "timestamp": 1545433403292,
     "user": {
      "displayName": "Qiang YE",
      "photoUrl": "https://lh6.googleusercontent.com/-k-9mYNphfpc/AAAAAAAAAAI/AAAAAAAAARQ/zyID3sFntfM/s64/photo.jpg",
      "userId": "15200210150486633975"
     },
     "user_tz": 300
    },
    "id": "EJ4EaodYAQc7",
    "outputId": "48a5ff74-f00b-4801-9e9d-2256b2f640fc"
   },
   "outputs": [
    {
     "name": "stdout",
     "output_type": "stream",
     "text": [
      "21 5862\n"
     ]
    },
    {
     "data": {
      "text/plain": [
       "(array([1.94241e+05, 4.24700e+03, 9.85000e+02, 1.41000e+02, 1.70000e+01,\n",
       "        7.00000e+00, 1.00000e+00, 0.00000e+00, 0.00000e+00, 1.00000e+00]),\n",
       " array([  21. ,  605.1, 1189.2, 1773.3, 2357.4, 2941.5, 3525.6, 4109.7,\n",
       "        4693.8, 5277.9, 5862. ]),\n",
       " <a list of 10 Patch objects>)"
      ]
     },
     "execution_count": 48,
     "metadata": {
      "tags": []
     },
     "output_type": "execute_result"
    },
    {
     "data": {
      "image/png": "[encoded data removed]",
      "text/plain": [
       "<matplotlib.figure.Figure at 0x7f109a3c1c50>"
      ]
     },
     "metadata": {
      "tags": []
     },
     "output_type": "display_data"
    }
   ],
   "source": [
    "import matplotlib.pyplot as plt\n",
    "\n",
    "lens = [len(i) for i in segments]\n",
    "print(min(lens), max(lens))\n"
   ]
  },
  {
   "cell_type": "code",
   "execution_count": 51,
   "metadata": {
    "colab": {
     "base_uri": "https://localhost:8080/",
     "height": 401
    },
    "colab_type": "code",
    "executionInfo": {
     "elapsed": 618,
     "status": "ok",
     "timestamp": 1545433499169,
     "user": {
      "displayName": "Qiang YE",
      "photoUrl": "https://lh6.googleusercontent.com/-k-9mYNphfpc/AAAAAAAAAAI/AAAAAAAAARQ/zyID3sFntfM/s64/photo.jpg",
      "userId": "15200210150486633975"
     },
     "user_tz": 300
    },
    "id": "Kgu5r2I7AqXe",
    "outputId": "596aff32-71de-4ea0-f388-2bbac7cb9495"
   },
   "outputs": [
    {
     "data": {
      "text/plain": [
       "(array([     0.,      0., 149052.,  48588.,   2000.]),\n",
       " array([    0,     1,    10,   100,  1000, 10000]),\n",
       " <a list of 5 Patch objects>)"
      ]
     },
     "execution_count": 51,
     "metadata": {
      "tags": []
     },
     "output_type": "execute_result"
    },
    {
     "data": {
      "image/png": "[encoded data removed]",
      "text/plain": [
       "<matplotlib.figure.Figure at 0x7f109ae7c6a0>"
      ]
     },
     "metadata": {
      "tags": []
     },
     "output_type": "display_data"
    }
   ],
   "source": [
    "plt.hist(lens, [0, 1, 10, 100, 1000, 10000])"
   ]
  },
  {
   "cell_type": "code",
   "execution_count": 0,
   "metadata": {
    "colab": {},
    "colab_type": "code",
    "id": "chdwiyzJVGIK"
   },
   "outputs": [],
   "source": [
    "def exist_same_segment(segments):\n",
    "    \"\"\"check if there exists two identical segments\n",
    "    \"\"\"\n",
    "    for i in range(len(segments)):\n",
    "        for j in range(i+1, len(segments)):\n",
    "            if segments[i] == segments[j]:\n",
    "                return True, i, j\n",
    "    return False"
   ]
  },
  {
   "cell_type": "code",
   "execution_count": 0,
   "metadata": {
    "colab": {},
    "colab_type": "code",
    "id": "IppM6WdPnCvl"
   },
   "outputs": [],
   "source": [
    "exist_same_segment(segments)"
   ]
  },
  {
   "cell_type": "code",
   "execution_count": 0,
   "metadata": {
    "colab": {},
    "colab_type": "code",
    "id": "P9-_WvJDhtr4"
   },
   "outputs": [],
   "source": [
    "def read_fasta(path):\n",
    "    with gzip.open(path, 'rt') as f:\n",
    "        accession, description, seq = None, None, None\n",
    "        for line in f:\n",
    "            if line[0] == '>':\n",
    "                # yield current record\n",
    "                if accession is not None:\n",
    "                    yield accession, description, seq\n",
    "                    \n",
    "                # start a new record\n",
    "                accession, description = line[1:].rstrip().split(maxsplit=1)\n",
    "                seq = ''\n",
    "            else:\n",
    "                seq += line.rstrip()"
   ]
  },
  {
   "cell_type": "code",
   "execution_count": 0,
   "metadata": {
    "colab": {},
    "colab_type": "code",
    "id": "B6QPhRVjVR-Z"
   },
   "outputs": [],
   "source": [
    "# test graph with small k and seq \n",
    "\n",
    "seq = \"ATGTGATGAATGTGATCGGCGAGGCAAAACAAC\"\n",
    "k = 9\n",
    "kmers = [seq[i:i+k] for i in range(len(seq) - k + 1)]\n",
    "graph2 = DeBrujinGraph(kmers, k = k)\n",
    "\n",
    "start_nodes = find_nodes(graph2)\n",
    "end_nodes = find_nodes(graph2, False)\n",
    "print(start_nodes)\n",
    "print(end_nodes)\n",
    "\n",
    "import networkx as nx\n",
    "%matplotlib inline\n",
    "import matplotlib.pyplot as plt\n",
    "\n",
    "def edges(kmers_graph):\n",
    "    for k in kmers_graph:\n",
    "        for s in 'ATCG':\n",
    "            successor = k[1:] + s\n",
    "            if successor in kmers_graph:\n",
    "                yield k, successor\n",
    "\n",
    "\n",
    "plt.figure(figsize=(20,10))\n",
    "g = nx.DiGraph()\n",
    "g.add_nodes_from(graph2)\n",
    "g.add_edges_from((u, v, {'label': v[-1]}) for u, v in edges(graph2))\n",
    "nx.draw(g, pos=nx.drawing.nx_agraph.graphviz_layout(g), with_labels=True, node_size=3000)\n",
    "nx.draw_networkx_edge_labels(g, pos=nx.drawing.nx_agraph.graphviz_layout(g), edge_labels=nx.get_edge_attributes(g, 'label'))\n",
    "plt.show()"
   ]
  },
  {
   "cell_type": "code",
   "execution_count": 0,
   "metadata": {
    "colab": {},
    "colab_type": "code",
    "id": "KJUTUFxJnCvt"
   },
   "outputs": [],
   "source": []
  },
  {
   "cell_type": "code",
   "execution_count": 4,
   "metadata": {
    "colab": {},
    "colab_type": "code",
    "id": "61RYuG5SnCvy"
   },
   "outputs": [],
   "source": [
    "def find_boyer_moore(T, P):\n",
    "    '''Return the lowest index of T at which substring P begins (or else -1).'''\n",
    "    n, m = len(T), len(P)          # introduce convenient notations\n",
    "    if m == 0: return 0            # trivial search for empty string\n",
    "    last = { }                     # build ’last’ dictionary\n",
    "    for k in range(m):\n",
    "        last[ P[k] ] = k           # later occurrence overwrites\n",
    "    # align end of pattern at index m-1 of text\n",
    "    i = m - 1                        # an index into T\n",
    "    k = m - 1                        # an index into P\n",
    "    while i < n:\n",
    "        if T[i] == P[k]:           # a matching character\n",
    "            if k == 0:\n",
    "                return i           # pattern begins at index i of text\n",
    "            else:\n",
    "                i -= 1             # examine previous character\n",
    "                k -= 1             # of both T and P\n",
    "        else:\n",
    "            j = last.get(T[i], -1) # last(T[i]) is -1 if not found\n",
    "            i += m - min(k, j + 1) # case analysis for jump step\n",
    "            k = m - 1              # restart at end of pattern\n",
    "    return -1"
   ]
  },
  {
   "cell_type": "code",
   "execution_count": 24,
   "metadata": {},
   "outputs": [
    {
     "data": {
      "text/plain": [
       "228"
      ]
     },
     "execution_count": 24,
     "metadata": {},
     "output_type": "execute_result"
    }
   ],
   "source": [
    "ref = \"GGCTCAAACTGTCGCCAATTATCTCCTCTTTGACGACAGCCCATTGATGAGACGAAATCGGTATTTCTACGGGAAACAGTACAAAAAGAATGAGCTCTTCACGCCGAGCCAAGAAGTTTTGGATATTTATCGGCGAAGAGACCTTGAAGCCCGATTTTTAGAGTTTATGGAGAAGCGATTCGTGGTGAAGGACGGCGAGCTCCCACCAGAACAAGCCGACGACCGTAACCCGTTATCACTGGATATCCACGTGGAGGATAACTTCCCATACGAGCAGATTCCAAGTTTGATGACGTCATCAG\"\n",
    "assem = \"CCCGTTATCACTGGATATCCACGTGGAGGATAACTTCCCATACGAGCAGATTCCAAGTTTGATGACGTCATCAG\"\n",
    "find_boyer_moore(ref, assem)"
   ]
  },
  {
   "cell_type": "code",
   "execution_count": null,
   "metadata": {},
   "outputs": [],
   "source": [
    "def find_boyer_moore(T, P):\n",
    "    '''Return the lowest index of T at which substring P begins (or else -1).\n",
    "    params\n",
    "        T: text, str\n",
    "        P: pattern, str\n",
    "    returns\n",
    "        index: start index where patter matches text, -1 when failed\n",
    "    '''\n",
    "    n, m = len(T), len(P)          # introduce convenient notations\n",
    "    if m == 0: return 0            # trivial search for empty string\n",
    "    last = { }                     # build ’last’ dictionary\n",
    "    for k in range(m):\n",
    "        last[ P[k] ] = k           # later occurrence overwrites\n",
    "    # align end of pattern at index m-1 of text\n",
    "    i = m - 1                        # an index into T\n",
    "    k = m - 1                        # an index into P\n",
    "    while i < n:\n",
    "        if T[i] == P[k]:           # a matching character\n",
    "            if k == 0:\n",
    "                return i           # pattern begins at index i of text\n",
    "            else:\n",
    "                i -= 1             # examine previous character\n",
    "                k -= 1             # of both T and P\n",
    "        else:\n",
    "            j = last.get(T[i], -1) # last(T[i]) is -1 if not found\n",
    "            i += m - min(k, j + 1) # case analysis for jump step\n",
    "            k = m - 1              # restart at end of pattern\n",
    "    return -1"
   ]
  },
  {
   "cell_type": "code",
   "execution_count": null,
   "metadata": {},
   "outputs": [],
   "source": [
    "def compute_kmp_fail(P):\n",
    "    m = len(P)\n",
    "    fail = [0] * m\n",
    "    j, k = 1, 0\n",
    "    while j < m:\n",
    "        if P[j] == P[k]:\n",
    "            fail[j] = k + 1\n",
    "            j += 1\n",
    "            k += 1\n",
    "        elif k > 0:\n",
    "            k = fail[k-1]\n",
    "        else:\n",
    "            j += 1\n",
    "        return fail\n",
    "    \n",
    "def find_kmp(T, P, fail):\n",
    "    n, m = len(T), len(P)\n",
    "    if m == 0: return 0\n",
    "    #fail = compute_kmp_fail(P)\n",
    "    j, k = 0, 0\n",
    "    while j < n:\n",
    "        if T[j] == P[k]:\n",
    "            if k == m - 1:\n",
    "                return j-m+1\n",
    "            j += 1\n",
    "            k += 1\n",
    "        elif k > 0:\n",
    "            k = fail[k - 1]\n",
    "        else:\n",
    "            j += 1\n",
    "    return -1"
   ]
  },
  {
   "cell_type": "code",
   "execution_count": 45,
   "metadata": {},
   "outputs": [],
   "source": [
    "def read_old_contig(path):\n",
    "    results = []\n",
    "    with open(path, \"rt\") as f:\n",
    "        for line in f:\n",
    "            iden = line.rstrip()\n",
    "            seq = f.readline().rstrip()\n",
    "            results.append((iden, seq))\n",
    "            \n",
    "    return results\n",
    "\n",
    "old_contigs_file = \"contigs_final_old.fa\"\n",
    "results = read_old_contig(old_contigs_file)\n",
    "            "
   ]
  },
  {
   "cell_type": "code",
   "execution_count": 46,
   "metadata": {},
   "outputs": [
    {
     "name": "stdout",
     "output_type": "stream",
     "text": [
      "BCKCXANIWE GAAATGGATAGAAATGCAACAGGCACTGACTCAGCCGTATTCGTGATCGAAGCCAATTGGGATCCGCGTGTGCACATGTTCGAAGTGTTAAACACGGAGACGCCGAGAGACACACGAGTGTTCATGACAGTGGCGATTGATGTTATTGTCTCGGAAATCAGTGAACCAATTCGATTCTCGATGGAAGCAATGTCACGTGTTTTT\n",
      "IIGALCPBIL CAACTCTTGCCCAAGCTGTACCCAAGTCATTTTTTCAAAGACAATATAAAAATACACAGTGCACTTTGATGTGCTTAAATGAAATTGAGAGCATCCAGGA\n",
      "XCDUAXOGVT AACCCAACCAGCTCCTCAGCTTGAGAAGGAGCAGTCGTGCAGTTGGATTGTGACAATTCCACGTGGATATTATGCAAAACTGATAATCAGTGGAAAGACA\n",
      "IUFPNVIKUN CCTAATGGAGCAGATGATGTCCAATCCAAGTATGCAGGCCAGTATGTTCAGCCCAGAAGTCATCAATTCAATTCGTCAAAATATGTCAAACAATCCTGGACTCATTGATTCCATTGTTGGACAAATTCCATCGGCTCGTGATAACCCACAGATTTCCGAAGGAATTCGTAGAAGTT\n",
      "RQRXMRJATE GGCTCAAACTGTCGCCAATTATCTCCTCTTTGACGACAGCCCATTGATGAGACGAAATCGGTATTTCTACGGGAAACAGTACAAAAAGAATGAGCTCTTCACGCCGAGCCAAGAAGTTTTGGATATTTATCGGCGAAGAGACCTTGAAGCCCGATTTTTAGAGTTTATGGAGAAGCGATTCGTGGTGAAGGACGGCGAGCTCCCACCAGAACAAGCCGACGACCGTAACCCGTTATCACTGGATATCCACGTGGAGGATAACTTCCCATACGAGCAGATTCCAAGTTTGATGACGTCATCAG\n",
      "VXREIKBLOI CATTTAACACACTCTATGTAATTGCTTCATTCTCCGGATTTTTCCTGAACATGGTGCATCTTGCAGTTTTAACAAGGAAGGCTCTGAGAACAAATTTGGTGTATACTGTGATGATTGGTATTTGTCTCAATGACTTGATTCAATGCTTTTGCACAATTTGCAATTTGTTTATGGAGTGGAATATTGTGTATAAAGTTGAAGACTGCGAAGAAAAACCATACTTTCACATTTTAACTGACATCTTGGCAGAAACAGTTCAATACAT\n",
      "ECQAJFNSXQ TTTCAGGACACCCATACCAGCAGCCATATGGTCAAATGCCACCACCACCACACGGACAATATCAACCACAGCAGCAGCAGGGAGGTCCAATGGGACCACC\n",
      "ZZQGMEZLTB CAAACTAACTTCTTAGCATCAATCGTTCGTAGCCAAACTGGCGCAACAAAGTTTTGGATCGGTTTAAGCCGTGCAACTCCGAGCTCTAGATTCCAATGGGAC\n",
      "DFGJHLKCBJ CGTGAACGCAAGAAGGACGAGATTCGAAATGAAAAACTTCGTATGCAAAAACTGATGCAAGAAGATGAAGAAGGATATCGTGCTCTTCTTGATGAGAAGA\n",
      "CLANBSKZGM ATTTGCAACAACATAGACTCATTCCAAACTAAGAATATCAATTGGAAGGCGGTCGAAATTATGGAGGAGTTGTCGAAAAACAAGGATTATTTGAGCATTGATAATTTCAAGTACAACCCAGATGCTCTCTGCGCTGGAACATGCTCGGAATGCAAAACTCAC\n"
     ]
    }
   ],
   "source": [
    "for identifier, segment in results[:10]:\n",
    "    print(identifier, segment)"
   ]
  },
  {
   "cell_type": "code",
   "execution_count": 47,
   "metadata": {},
   "outputs": [],
   "source": [
    "import random\n",
    "import string\n",
    "def get_identifier(k = 10):\n",
    "    return ''.join(random.choices(string.ascii_uppercase, k = 10))\n",
    "\n",
    "def write_fasta(path, results):\n",
    "    open_style = gzip.open\n",
    "    if path[-2:] != 'gz': # not a compressed file\n",
    "        open_style = open\n",
    "    desc_base = \"Assembled by Qiang Ye and Ju Xiao 12/21/2018\"\n",
    "    \n",
    "    max_bases_line = 80            # 80 bases maximal per line\n",
    "    with open_style(path, \"wt\") as f:\n",
    "        for identifier, segment in results:\n",
    "            desc = desc_base + \" \" + str(len(segment)) + \" bases\"\n",
    "            f.write(\">\" + identifier + \" \" + desc + \"\\n\")\n",
    "            echos = len(segment) // max_bases_line\n",
    "            if len(segment) % max_bases_line > 0:\n",
    "                echos += 1\n",
    "            for echo in range(echos):\n",
    "                start_index = echo * max_bases_line\n",
    "                end_index = min(start_index + max_bases_line, len(segment))\n",
    "                f.write(segment[start_index: end_index]+\"\\n\")\n",
    "    return"
   ]
  },
  {
   "cell_type": "code",
   "execution_count": 48,
   "metadata": {},
   "outputs": [],
   "source": [
    "new_contigs_file = \"contigs_final.fa\"\n",
    "write_fasta(new_contigs_file, results)"
   ]
  },
  {
   "cell_type": "code",
   "execution_count": null,
   "metadata": {},
   "outputs": [],
   "source": []
  }
 ],
 "metadata": {
  "colab": {
   "collapsed_sections": [],
   "name": "main_yq_bak.ipynb",
   "provenance": [],
   "version": "0.3.2"
  },
  "kernelspec": {
   "display_name": "Python 3",
   "language": "python",
   "name": "python3"
  },
  "language_info": {
   "codemirror_mode": {
    "name": "ipython",
    "version": 3
   },
   "file_extension": ".py",
   "mimetype": "text/x-python",
   "name": "python",
   "nbconvert_exporter": "python",
   "pygments_lexer": "ipython3",
   "version": "3.7.1"
  }
 },
 "nbformat": 4,
 "nbformat_minor": 1
}
