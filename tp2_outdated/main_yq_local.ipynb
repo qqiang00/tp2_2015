{
 "cells": [
  {
   "cell_type": "code",
   "execution_count": null,
   "metadata": {
    "colab": {
     "base_uri": "https://localhost:8080/",
     "height": 233
    },
    "colab_type": "code",
    "executionInfo": {
     "elapsed": 1398,
     "status": "ok",
     "timestamp": 1545406583816,
     "user": {
      "displayName": "Qiang YE",
      "photoUrl": "https://lh6.googleusercontent.com/-k-9mYNphfpc/AAAAAAAAAAI/AAAAAAAAARQ/zyID3sFntfM/s64/photo.jpg",
      "userId": "15200210150486633975"
     },
     "user_tz": 300
    },
    "id": "oY9T2jrUUGTH",
    "outputId": "a233e015-776c-4094-c74b-2fd6a1e08deb"
   },
   "outputs": [],
   "source": [
    "from google.colab import drive\n",
    "drive.mount('/content/drive/')\n",
    "import os\n",
    "os.chdir(\"drive/My Drive/Colab Notebooks/IFT2015/\")\n",
    "import sys\n",
    "sys.path.append(\"drive/My Drive/Colab Notebooks/IFT2015/\")\n",
    "#check if you are in the right directory\n",
    "!ls"
   ]
  },
  {
   "cell_type": "code",
   "execution_count": 1,
   "metadata": {
    "colab": {},
    "colab_type": "code",
    "id": "BTs9HFZjUKoH"
   },
   "outputs": [],
   "source": [
    "import gzip\n",
    "from itertools import islice\n",
    "from graph_yq import DeBrujinGraph"
   ]
  },
  {
   "cell_type": "code",
   "execution_count": 2,
   "metadata": {
    "colab": {},
    "colab_type": "code",
    "id": "dGoQZDBxU4y9"
   },
   "outputs": [],
   "source": [
    "def read_fastq(path):\n",
    "    with gzip.open(path, 'rt') as f:\n",
    "        for line in f:\n",
    "            seqid, description = line[1:].rstrip().split(maxsplit=1)\n",
    "            sequence = f.readline().rstrip()\n",
    "            _ = f.readline()\n",
    "            quality = f.readline().rstrip()\n",
    "            yield seqid, description, sequence, quality"
   ]
  },
  {
   "cell_type": "code",
   "execution_count": 3,
   "metadata": {
    "colab": {},
    "colab_type": "code",
    "id": "56NajVr8VNI3"
   },
   "outputs": [],
   "source": [
    "k = 21\n",
    "kmers = []"
   ]
  },
  {
   "cell_type": "code",
   "execution_count": 4,
   "metadata": {
    "colab": {
     "base_uri": "https://localhost:8080/",
     "height": 53
    },
    "colab_type": "code",
    "executionInfo": {
     "elapsed": 3591,
     "status": "ok",
     "timestamp": 1545406611874,
     "user": {
      "displayName": "Qiang YE",
      "photoUrl": "https://lh6.googleusercontent.com/-k-9mYNphfpc/AAAAAAAAAAI/AAAAAAAAARQ/zyID3sFntfM/s64/photo.jpg",
      "userId": "15200210150486633975"
     },
     "user_tz": 300
    },
    "id": "QyEr1mjtVQAu",
    "outputId": "52dbbd35-bcd1-4c97-aa5e-470a8cbe895a"
   },
   "outputs": [
    {
     "name": "stdout",
     "output_type": "stream",
     "text": [
      "CPU times: user 1.6 s, sys: 164 ms, total: 1.77 s\n",
      "Wall time: 1.84 s\n"
     ]
    }
   ],
   "source": [
    "%%time\n",
    "for _, _, seq, _ in read_fastq('reads.fastq.gz'):\n",
    "    kmers.extend([seq[i:i+k] for i in range(len(seq) - k + 1)])"
   ]
  },
  {
   "cell_type": "code",
   "execution_count": 5,
   "metadata": {
    "colab": {
     "base_uri": "https://localhost:8080/",
     "height": 53
    },
    "colab_type": "code",
    "executionInfo": {
     "elapsed": 5856,
     "status": "ok",
     "timestamp": 1545406626571,
     "user": {
      "displayName": "Qiang YE",
      "photoUrl": "https://lh6.googleusercontent.com/-k-9mYNphfpc/AAAAAAAAAAI/AAAAAAAAARQ/zyID3sFntfM/s64/photo.jpg",
      "userId": "15200210150486633975"
     },
     "user_tz": 300
    },
    "id": "KrViQrjJVWue",
    "outputId": "72b00525-ea77-423e-d3cd-ff9741066223"
   },
   "outputs": [
    {
     "name": "stdout",
     "output_type": "stream",
     "text": [
      "CPU times: user 4.42 s, sys: 23.6 ms, total: 4.44 s\n",
      "Wall time: 4.44 s\n"
     ]
    }
   ],
   "source": [
    "%%time\n",
    "length = min(10000, len(kmers))\n",
    "graph = DeBrujinGraph(nodes = kmers[:length], k = 21)"
   ]
  },
  {
   "cell_type": "code",
   "execution_count": 6,
   "metadata": {
    "colab": {
     "base_uri": "https://localhost:8080/",
     "height": 53
    },
    "colab_type": "code",
    "executionInfo": {
     "elapsed": 1227,
     "status": "ok",
     "timestamp": 1545406629942,
     "user": {
      "displayName": "Qiang YE",
      "photoUrl": "https://lh6.googleusercontent.com/-k-9mYNphfpc/AAAAAAAAAAI/AAAAAAAAARQ/zyID3sFntfM/s64/photo.jpg",
      "userId": "15200210150486633975"
     },
     "user_tz": 300
    },
    "id": "Bqi3NTqDgDn4",
    "outputId": "a5622b6f-28a8-4b67-8fcf-066245241456"
   },
   "outputs": [
    {
     "name": "stdout",
     "output_type": "stream",
     "text": [
      "node counts: 10000\n",
      "in couting edges methods\n",
      "edge counts: 9875\n"
     ]
    }
   ],
   "source": [
    "print(\"node counts:\", graph.node_count())\n",
    "print(\"edge counts:\", graph.edge_count())"
   ]
  },
  {
   "cell_type": "markdown",
   "metadata": {
    "colab_type": "text",
    "id": "58eG_UjrY2Au"
   },
   "source": [
    "## Question 3 Parcour"
   ]
  },
  {
   "cell_type": "code",
   "execution_count": 7,
   "metadata": {
    "colab": {},
    "colab_type": "code",
    "id": "jcsEEe8yY0_n"
   },
   "outputs": [],
   "source": [
    "def DFS( g, u, discovered ):\n",
    "    \"\"\"deep first search of a graph.\n",
    "    params\n",
    "        g: a graph\n",
    "        u: a node of graph g\n",
    "        discovered: a dictionary marking where a edge is visited\n",
    "    return\n",
    "        None, discovered modified\n",
    "    \"\"\"\n",
    "    for v in g.successors( u ):\n",
    "        if v not in discovered:\n",
    "            discovered[v] = u # u represents parent node of v\n",
    "                              # v carries the edge information v[-1]\n",
    "            DFS( g, v, discovered )\n",
    "            \n",
    "            \n",
    "def build_fragment( g, u, v, discovered ):\n",
    "    \"\"\"build a fragment from node u to v based on the discovered paths in graph\n",
    "    params\n",
    "        g: graph\n",
    "        u: start node of a fragment, str\n",
    "        v: end node of a fragment, str\n",
    "        discovered: dictionary from a deep first search of a graph g\n",
    "    returns\n",
    "        fragment: str\n",
    "    \"\"\"\n",
    "    frag = []\n",
    "    if v in discovered:\n",
    "        walk = v\n",
    "        while walk is not u:\n",
    "            parent = discovered[walk]\n",
    "            frag.append(walk[-1])\n",
    "            walk = parent\n",
    "        # walk is now u\n",
    "        \n",
    "    frag.reverse()\n",
    "    frag = u + \"\".join(frag)\n",
    "    return frag"
   ]
  },
  {
   "cell_type": "code",
   "execution_count": 8,
   "metadata": {
    "colab": {},
    "colab_type": "code",
    "id": "M5TZWArTZ_qq"
   },
   "outputs": [],
   "source": [
    "# find the nodes who have no predecessors\n",
    "def find_nodes(g, has_no_predecessors = True):\n",
    "    \"\"\"find all nodes without predecessors or without successors controled by\n",
    "    a bool parameter\n",
    "    params\n",
    "        g: graph\n",
    "        has_no_predecessors: bool, if True, find all nodes without predecessors,\n",
    "            If False, find all nodes without successors\n",
    "    returns\n",
    "        results, list of nodes\n",
    "    \"\"\"\n",
    "    results = []\n",
    "    for node in g.nodes():\n",
    "        func = g.predecessors\n",
    "        if has_no_predecessors == False:\n",
    "            func = g.successors\n",
    "        if len(func(node)) == 0: # no predecessors\n",
    "            results.append(node)\n",
    "    return results           "
   ]
  },
  {
   "cell_type": "code",
   "execution_count": 9,
   "metadata": {
    "colab": {
     "base_uri": "https://localhost:8080/",
     "height": 53
    },
    "colab_type": "code",
    "executionInfo": {
     "elapsed": 5526,
     "status": "ok",
     "timestamp": 1545407336158,
     "user": {
      "displayName": "Qiang YE",
      "photoUrl": "https://lh6.googleusercontent.com/-k-9mYNphfpc/AAAAAAAAAAI/AAAAAAAAARQ/zyID3sFntfM/s64/photo.jpg",
      "userId": "15200210150486633975"
     },
     "user_tz": 300
    },
    "id": "cY0Bbgf_bRgk",
    "outputId": "28d2ee2b-5b5b-4b1a-f209-a5f8088643cf"
   },
   "outputs": [
    {
     "name": "stdout",
     "output_type": "stream",
     "text": [
      "CPU times: user 4.21 s, sys: 0 ns, total: 4.21 s\n",
      "Wall time: 4.2 s\n"
     ]
    }
   ],
   "source": [
    "%%time\n",
    "nodes_without_predecessors = find_nodes(graph)\n",
    "nodes_without_successors = find_nodes(graph, False)"
   ]
  },
  {
   "cell_type": "code",
   "execution_count": 10,
   "metadata": {
    "colab": {
     "base_uri": "https://localhost:8080/",
     "height": 73
    },
    "colab_type": "code",
    "executionInfo": {
     "elapsed": 340,
     "status": "ok",
     "timestamp": 1545407339339,
     "user": {
      "displayName": "Qiang YE",
      "photoUrl": "https://lh6.googleusercontent.com/-k-9mYNphfpc/AAAAAAAAAAI/AAAAAAAAARQ/zyID3sFntfM/s64/photo.jpg",
      "userId": "15200210150486633975"
     },
     "user_tz": 300
    },
    "id": "8VQyvwepgCIl",
    "outputId": "3aa74d65-4714-49ee-a8a8-d359da668ce6"
   },
   "outputs": [
    {
     "name": "stdout",
     "output_type": "stream",
     "text": [
      "['CAACACCTCTCTCCTGAACCT', 'GTTAGCACTTGGAAGACAATT', 'ACCACTTCTACTCCAGACGTC', 'GATAATAAAAACGACCCCTGC', 'TGCAGCCTACGAAATGACTCC', 'TACAAGAAGCTCTTCATTTTG', 'ACTTCGAAAGATCATATGGAT', 'GAGGGTTGCCAATTCGTTTCA', 'TCGAATTCATAATTTCTGTAA', 'AAGTCACGAATTGGCCCGTAC', 'GAGACTACATCATCCCATGAT', 'TGCTACACATCGAGAATCATA', 'TGGGTACGGAAGCTATGGTGG', 'CCAAATCTTCGAATGTTGACT', 'TCACAGAGATGGAACTTATGC', 'GTGAAGTTGAGAGGAGGAGAT', 'TTACTACCCATCGGTTAATAA', 'CCGAGTCCGATCATCACTGGG', 'AAGATTGTGCTGGATAATATT', 'CGTTGAAGACGAAATTGTCAA', 'CCAGCTCTTGAATCATCTGCG', 'CCAACTTTGCCGTTGGTGTTG', 'GCTGCTGCTTGCGTCTTGGGT', 'CGACAGAGTTTATAACTCGAA', 'TCGGAATGTATCTCGTGATTT', 'AGCTCCCAGAAGTTGCAAGAG', 'ACTTGTCTACACGAAAACCTT', 'CGTTGAGAGATTTGGTGGCTG', 'AGAACCATTCTCGGAGGACAT', 'CAGGACTTTAGCAAATTCAAT', 'AAAGTCGTGACCGATGCAAAG', 'CGGCAACCTCCCTATCGCCAA', 'TTCCAAGCGAAGCGGGGATTG', 'AAAAGTCAACTGCCAAAAGGA', 'ATTGCTGCATTTTGGCCTCAA', 'CGGAAGACCACGCAAACCGAC', 'GCTTTTCCGTTTAAATGTGCA', 'CTTGGATGCATTCATAGTAAA', 'AAAAAGTCGGATATGGCAAAA', 'TCATCCCAACAAGTGAAGAAT', 'TGGTTCAGTTTATGGGCATCA', 'GATGAAATGGAGCTGAAAAAG', 'TGCCTGTCGAACAGAATGGGA', 'CAAAGCCAGTCATGGTTGGAA', 'CGATTGGAGGAATAATTGGTT', 'GCCTCACTCCTCAACAAAGTC', 'TTGCAAAGACTACGCGGCTCG', 'ATTCCGAGGAACCAGAAGCAG', 'TCATGCTATTATGGAACTGTT', 'AAATCCGACACATCAATTTGC', 'GTGTCATCATTCCTTCTCATG', 'GATCTCGAAGCAGGCAGAAAT', 'ACCTACTGGAGCGTCAACAAA', 'CTTGCCGCCAATTTGCAACGA', 'CCGAAGACCCCTCCCACTTTA', 'CGTGGAAAGGACTTGGAGGCC', 'GCTTCTTGATACAGTTCAGAT', 'ACAGATTCATCAACACAAACT', 'TTACAGTGGAGGGCATCATAG', 'TGGAATGGTAGAGTCGAACTT', 'TGGAATGAGCACCGAGTCGTC', 'ATTCCTTGACGCTTTCAACTT', 'GATTTCTTTCACAAGTTTGGA', 'TTTCGAGGTCGCACATTTAAT', 'CTGTCGGAGGATGTTCAATGT', 'CAATCTTTTCCTCTGTGGACC', 'ATGTGTCATCTGAATCGAACC', 'CTATCTTATGATGTCATTTTC', 'ACACGTCTTGCTGGAGACATT', 'CCGCCAACAACAAGAAGGACT', 'CCAATTACTCCAAGTGCAAAT', 'TTACTAAAGTTCCTATTTCAA', 'TATTCTATCCGTGTGTTCTTC', 'TGGCATCACAATGGATCACAA', 'AAAGCCGATCTACTTGAAGAC', 'ACAGTACTCACGTTAACGTGT', 'ATGCTACAAGTAATTTGAACG', 'AAATTTACGATTCGAAAACCA', 'CTGAAACCACCCCACTTCCAC', 'ATAATTGCCTATTGTTACTTG', 'ATATGATTCAGTTCTACGGGT', 'GGAATCGCTTGCACATTCTCG', 'ATTCCAAGAAGGTGATGAACT', 'TCTGGAGATATCTTCATCAGG', 'AAGAAGATGGCTCTAGAAAAG', 'GAAGATGAACACAATGGAAGC', 'TCTAAACCTTTCGAATCAAAA', 'TGTCGTGGTCGAAGATGACGC', 'TTGATGGAGGAGCATGCAAAA', 'AGGAACTCCAGGACAAGACGG', 'TAAGGCACCAGCTCAACTTCA', 'AAATGTGGTTCTTCCAAATGG', 'AAGCGGTCACCGCGTCCGAAA', 'CCAGAACCAAAAATTGATCCT', 'CGGGCAAAAGCTTTTCGAAGC', 'AAATGATCGCAAAATAATAAA', 'ACTTCAAAACATCGGAAGAAT', 'TACCGTCGGATACCAACCCAA', 'ATATCATATCCGATCTGTTGA', 'GTCACAATAGAAGAGGAGAAG', 'TCAACAATGAGCAGGCGGACA', 'GATAATGATATGACACTAACA', 'CGGGACACTTATGAGCTTCTA', 'TCATCATATGTTGTTAATCAT', 'GACGAGCTTTGCATAAATCTC', 'GTTGAATGGGCTATTTCAAAC', 'GTATGCGTGGCGGCTTCCCAC', 'AACGTCATCATCGACGGAAGG', 'GAATGGAGACAAATGAAGCTC', 'GCAGCTTGTTTCCTGTCAACA', 'TGAAGAGGAGATGAGAAGCGG', 'TTGCTATCCGTACGAAGTGCT', 'ACGAAGAAGAACGCCTTCTTC', 'CTTTTGATGATTTTCAGAGTT', 'GAAGCGGCACGAATCAAAGAT', 'GCGGACGGAGTTTTTCGAGGA', 'TAACCAAATTGGGGCAAAGTT', 'GAAAATGAGGCTGTCAAGGAG', 'CCGGCTGCATCGGCTCCGCCA', 'ATGTGATGAATGTGATCGGCG', 'GATTTTAAAACTGAATATATG', 'CTACTATCCCCATACATCTTC', 'ACTATTTTCATTCTTCGACGA', 'GGAAATGTGAAAGAAGGCGAT', 'TCGTCTGTTCATCTATTGCAA']\n",
      "125\n"
     ]
    }
   ],
   "source": [
    "print(nodes_without_predecessors)\n",
    "print(len(nodes_without_predecessors))"
   ]
  },
  {
   "cell_type": "code",
   "execution_count": 11,
   "metadata": {
    "colab": {
     "base_uri": "https://localhost:8080/",
     "height": 73
    },
    "colab_type": "code",
    "executionInfo": {
     "elapsed": 478,
     "status": "ok",
     "timestamp": 1545407353569,
     "user": {
      "displayName": "Qiang YE",
      "photoUrl": "https://lh6.googleusercontent.com/-k-9mYNphfpc/AAAAAAAAAAI/AAAAAAAAARQ/zyID3sFntfM/s64/photo.jpg",
      "userId": "15200210150486633975"
     },
     "user_tz": 300
    },
    "id": "wuk0RjrGqo6-",
    "outputId": "035df0c7-9db0-4e71-e296-c27797fc9ee3"
   },
   "outputs": [
    {
     "name": "stdout",
     "output_type": "stream",
     "text": [
      "['TCCGAGTGTGCACAGCATCAT', 'CAATATACACTGGATTCATGT', 'CGGCGAAATCACAAATTCTGC', 'GATTGATGGCTCAAATTCCAA', 'AGTTAAACACCCAAAAATGGT', 'AGCATAACAGATACTTTGTCG', 'GAAACTCTGCTCACGGGCGAT', 'AGAAAATCAACGAATACATGA', 'TCATACTTAATCGATGGAACT', 'AAAAGACAGTCACGAATGATC', 'TGATGGATGAAGTTATTCGAG', 'TTGTCGAAGGAATGCCAGCAT', 'TTCATGCTCAGTTGATGAAAG', 'AACTCCCCAGCAGCAGTTAAA', 'AGTGTGTGTTTAGTACTGGGA', 'TCAATCAGAACTTGATTCGAG', 'CAAGTGGTTGTTTCAAAATAG', 'AAGACCCCGACAATGTGAAAG', 'ACGTTGTCGACTACGCCACGG', 'GGGCGGTGATTAAGAAAAAGG', 'TGGATGTCCAATTGGAGATGT', 'TGAAAGTGTATCAGAAGAAAG', 'GTGCATTAAAATCGCTACTCG', 'AAACAACAGAACTCCAGTCAA', 'GAGTGATTAAAATGCTCATTG', 'TCCGAAAACCAAACAGCACAG', 'GAACAACTCGTCTCGGAGATT', 'GAGCACGTAAAAGGAAGTCCA', 'CCGGGGGAGCAGTTTGGGTAT', 'CGATAACCCAGAAGTCACCGA', 'AAGTATACACATGTCCGAGGG', 'ATATGGAATTGCAACATATCG', 'CTCACTGCTGAAGAAACACCT', 'TCAAAGGAGCAAAAGAGGCTC', 'ACTAGTAATTTGGTGGGCAGA', 'AGATTACTTCCCATCAAATTC', 'TTGCTCGCCAAGCTGGTGGTG', 'AACAAATCAAGACTTTAATGA', 'AAAACTATTGGAGATCATTCT', 'GCCGAGGACTTCTAGTGGATG', 'CTGACGACTAGCGATCCGTGC', 'ACTAATCCTAAAACTGATTCC', 'TCAGGAAATTTCTACCCCTGC', 'TCATTGCATCCAGCTACAAAA', 'TGCCACGTGTCAAAGTGATCG', 'ATTTGGAATTCTAATCGGTAT', 'ACAAGACAAACACGTGCTCCA', 'GTCGAGCAGAATGATCAGGAA', 'AAGGAGATGTATGTTTTATTG', 'CTTGTGCTGCATTCTTCAGAA', 'TTGGTCAAGAAGCCACGTATC', 'ACCTGTCTCGCGCCGGATTAC', 'CAAGCGATCCACCGGCTGAAT', 'TGAAGAAAGAACAAGCAATCT', 'AGTACGAAAGCCGGCAAAAAG', 'CAATTCGTCTTCTTCTTGGAA', 'GGCCTAACAATACTGGAATAT', 'CTCTTGTTGTTAAACGTCGAA', 'CCTCAAGCAATTGAGAATAAA', 'TTGGGAGAATGGACTATCATT', 'CGGATCCGGGTATGAACGGGG', 'GCTTACCTCGCAGCCACCATT', 'TTTATTTTCACGAAGAACGTC', 'TGAGCATCGGTTGTGCCGTCG', 'TATTATTGAGGGCTGCACAAT', 'GCCTACAGTTTTTATGGAAAA', 'CTTGGAAAACGACACGTGGCA', 'TTCACATTTTGCCCTGGATAT', 'CGGGAATTAATGGTCAGCACG', 'CTTCGAAATCTTTCGGGGCCA', 'GGAAGTCAAAGGAAGATGGCA', 'TTCGAGAAGATGCTCAACGTG', 'TAAGGAAAAGGACACTATTTA', 'AATTGATATGAGAGCATCTGG', 'GTGAGCTCTTTCCAAGCGCCG', 'GGAGTCGCTGGACGCCCAGGA', 'TCCACTTGCCTATCTGGAACC', 'AACTTCAGAAGCTCAGCTCCT', 'GGCAGCCTTTTGGGACGGACA', 'TCATCAGACGATCTTACTCTT', 'TTCGAACACAAACTTCATTAC', 'CAGAGACACGTCATTAGTGGT', 'CAAGGCAGAGCCAGTACTTGG', 'AAATCGACGATTTAATTGGAG', 'TCAATCCATATGTGCTAAGCC', 'CTGTCGCGGCTGCTAGCAAAC', 'CCCGGATTGTAGTCAAGGTGC', 'GAAGGTTTCAGTATCAGCAAC', 'AGTGCCTTGGAATCCGATCAT', 'GATGACGAGACAGATCAAGAA', 'AAGCCAGGGATCAACAGAAAT', 'TTATCATGCAAGTAGCTATGG', 'TCCGATTTGCAGTTGGAGAGA', 'GAATTTCATGGTAGCAATGAA', 'TGACAAGTGCGCAAGATGTTG', 'AAGTCAAAAATGGAGATGTCT', 'CGGATGCAAAATGCACGTCTC', 'GAAAAACAAGTGTGTGTTGTG', 'TAGCGGATCGACACCCAGAGA', 'AAAGGATAAAATGTTGTTAGT', 'AGGGCCTCATACAGTTAACAT', 'CATACTCTTATTGCTTTGCGT', 'GAGAAACGTCGGATTGGCTTC', 'CCTGAGCTGGAAGCCTTGCTC', 'ACTCTTCCTCGTCCACTTCAT', 'AACAATCGGGTGCAGTTCACC', 'ATTCAGAACGTTTACCTACCT', 'CTCCGGATTACATTGCACCAG', 'CAGAACAGCCAAAGGAAGAGC', 'TCATTTTTTCTACCCAATATC', 'GAAGCCCAGCTGGAAACTGTG', 'TAACCGATTGTTATGTTGTTG', 'CGACTATCAAAGTTTACATCG', 'GCAACATTGCCCGTGAAGTCA', 'GGGACTACGGCGACTAATAAA', 'TGGGTTGCCCATGATTGGATT', 'ACAGGGCCTTCCGCCTGGTAT', 'AAGATGTCAAAGTGGAAGCTA', 'ATTCGGATGTGGCTATCGTAG', 'CCCGCACCAAAAACAAAAATC', 'GAGACAACAACCGTCATCCAC', 'GTTGGAGGAAGAAGGAGAAGA', 'GAACCCGGACGGAACCGCAAA', 'ATGGCTAGAGGCTGTCCAATG', 'ACTATTAATGGACCGTTTGGA']\n",
      "125\n"
     ]
    }
   ],
   "source": [
    "print(nodes_without_successors)\n",
    "print(len(nodes_without_successors))"
   ]
  },
  {
   "cell_type": "code",
   "execution_count": 12,
   "metadata": {
    "colab": {},
    "colab_type": "code",
    "id": "NSr71Y7Cfbbu"
   },
   "outputs": [],
   "source": [
    "fragments = []\n",
    "for origin_node in nodes_without_predecessors:\n",
    "    discovered = {origin_node: '-'}\n",
    "    DFS(graph, origin_node, discovered)\n",
    "    for dest_node in nodes_without_successors:\n",
    "        if discovered.get(dest_node, None) is not None:\n",
    "            fragment = build_fragment(graph, origin_node, dest_node, discovered)\n",
    "            fragments.append(fragment)"
   ]
  },
  {
   "cell_type": "code",
   "execution_count": 13,
   "metadata": {
    "colab": {
     "base_uri": "https://localhost:8080/",
     "height": 35
    },
    "colab_type": "code",
    "executionInfo": {
     "elapsed": 389,
     "status": "ok",
     "timestamp": 1544818011211,
     "user": {
      "displayName": "Qiang YE",
      "photoUrl": "https://lh6.googleusercontent.com/-k-9mYNphfpc/AAAAAAAAAAI/AAAAAAAAARQ/zyID3sFntfM/s64/photo.jpg",
      "userId": "15200210150486633975"
     },
     "user_tz": 300
    },
    "id": "1_XqGkShU_yP",
    "outputId": "f833ac41-5276-4b65-c3ae-65d8cada0bf2"
   },
   "outputs": [
    {
     "name": "stdout",
     "output_type": "stream",
     "text": [
      "125\n"
     ]
    }
   ],
   "source": [
    "print(len(fragments))"
   ]
  },
  {
   "cell_type": "code",
   "execution_count": 14,
   "metadata": {
    "colab": {
     "base_uri": "https://localhost:8080/",
     "height": 55
    },
    "colab_type": "code",
    "executionInfo": {
     "elapsed": 318,
     "status": "ok",
     "timestamp": 1544818042053,
     "user": {
      "displayName": "Qiang YE",
      "photoUrl": "https://lh6.googleusercontent.com/-k-9mYNphfpc/AAAAAAAAAAI/AAAAAAAAARQ/zyID3sFntfM/s64/photo.jpg",
      "userId": "15200210150486633975"
     },
     "user_tz": 300
    },
    "id": "chdwiyzJVGIK",
    "outputId": "111213c8-c3f5-40cd-a517-eb4d2a37542e"
   },
   "outputs": [
    {
     "name": "stdout",
     "output_type": "stream",
     "text": [
      "GTTAGCACTTGGAAGACAATTGGAGAGTATTTTGACTCCACCTGAGCGTCGCCTATTCTTTAGAACTTCTGCTGAACACATGGCTAGAGGCTGTCCAATG\n"
     ]
    }
   ],
   "source": [
    "print(fragments[1])"
   ]
  },
  {
   "cell_type": "code",
   "execution_count": 15,
   "metadata": {
    "colab": {
     "base_uri": "https://localhost:8080/",
     "height": 109
    },
    "colab_type": "code",
    "executionInfo": {
     "elapsed": 313,
     "status": "ok",
     "timestamp": 1544822875819,
     "user": {
      "displayName": "Qiang YE",
      "photoUrl": "https://lh6.googleusercontent.com/-k-9mYNphfpc/AAAAAAAAAAI/AAAAAAAAARQ/zyID3sFntfM/s64/photo.jpg",
      "userId": "15200210150486633975"
     },
     "user_tz": 300
    },
    "id": "B6QPhRVjVR-Z",
    "outputId": "f98eb147-3037-4f1d-bd4b-6afc3a7e0e54"
   },
   "outputs": [
    {
     "name": "stdout",
     "output_type": "stream",
     "text": [
      "seq:  ACTGAGTCATGGATG\n",
      "kmers:  ['ACTG', 'CTGA', 'TGAG', 'GAGT', 'AGTC', 'GTCA', 'TCAT', 'CATG', 'ATGG', 'TGGA', 'GGAT', 'GATG']\n",
      "initialize graph with kmers and k\n",
      "in couting edges methods\n",
      "G( 12 nodes{ TGGA ACTG CATG CTGA GATG TCAT GGAT AGTC ATGG GAGT TGAG GTCA }, 12 edges{ ('TGGA', 'GGAT') ('ACTG', 'CTGA') ('CATG', 'ATGG') ('CTGA', 'TGAG') ('GATG', 'ATGG') ('TCAT', 'CATG') ('GGAT', 'GATG') ('AGTC', 'GTCA') ('ATGG', 'TGGA') ('GAGT', 'AGTC') ('TGAG', 'GAGT') ('GTCA', 'TCAT') } )\n"
     ]
    }
   ],
   "source": [
    "# Test\n",
    "\n",
    "seq = \"ACTGAGTCATGGATG\"\n",
    "k = 4\n",
    "kmers = [seq[i:i+k] for i in range(len(seq) - k + 1)]\n",
    "print(\"seq: \", seq)\n",
    "print(\"kmers: \", kmers)\n",
    "\n",
    "print(\"initialize graph with kmers and k\")\n",
    "graph2 = DeBrujinGraph(kmers, k = k)\n",
    "print(graph2)"
   ]
  },
  {
   "cell_type": "code",
   "execution_count": 16,
   "metadata": {
    "colab": {},
    "colab_type": "code",
    "id": "bS_yI8f-Vxvk"
   },
   "outputs": [],
   "source": [
    "start_nodes = find_nodes(graph2)\n",
    "end_nodes = find_nodes(graph2, False)"
   ]
  },
  {
   "cell_type": "code",
   "execution_count": 17,
   "metadata": {
    "colab": {
     "base_uri": "https://localhost:8080/",
     "height": 53
    },
    "colab_type": "code",
    "executionInfo": {
     "elapsed": 306,
     "status": "ok",
     "timestamp": 1544822879611,
     "user": {
      "displayName": "Qiang YE",
      "photoUrl": "https://lh6.googleusercontent.com/-k-9mYNphfpc/AAAAAAAAAAI/AAAAAAAAARQ/zyID3sFntfM/s64/photo.jpg",
      "userId": "15200210150486633975"
     },
     "user_tz": 300
    },
    "id": "XWwDjNtKV4t6",
    "outputId": "c117bd3e-4609-450e-9824-8c71bc582f40"
   },
   "outputs": [
    {
     "name": "stdout",
     "output_type": "stream",
     "text": [
      "['ACTG']\n",
      "[]\n"
     ]
    }
   ],
   "source": [
    "print(start_nodes)\n",
    "print(end_nodes)"
   ]
  },
  {
   "cell_type": "code",
   "execution_count": 18,
   "metadata": {
    "colab": {},
    "colab_type": "code",
    "id": "P9-_WvJDhtr4"
   },
   "outputs": [],
   "source": [
    "def read_fasta(path):\n",
    "    with gzip.open(path, 'rt') as f:\n",
    "        accession, description, seq = None, None, None\n",
    "        for line in f:\n",
    "            if line[0] == '>':\n",
    "                # yield current record\n",
    "                if accession is not None:\n",
    "                    yield accession, description, seq\n",
    "                    \n",
    "                # start a new record\n",
    "                accession, description = line[1:].rstrip().split(maxsplit=1)\n",
    "                seq = ''\n",
    "            else:\n",
    "                seq += line.rstrip()"
   ]
  },
  {
   "cell_type": "code",
   "execution_count": null,
   "metadata": {
    "colab": {
     "base_uri": "https://localhost:8080/",
     "height": 858
    },
    "colab_type": "code",
    "executionInfo": {
     "elapsed": 312,
     "status": "error",
     "timestamp": 1544821383217,
     "user": {
      "displayName": "Qiang YE",
      "photoUrl": "https://lh6.googleusercontent.com/-k-9mYNphfpc/AAAAAAAAAAI/AAAAAAAAARQ/zyID3sFntfM/s64/photo.jpg",
      "userId": "15200210150486633975"
     },
     "user_tz": 300
    },
    "id": "D4kKoj0bhKit",
    "outputId": "e950842f-2a17-4c99-eb66-76ea9af03eca"
   },
   "outputs": [],
   "source": []
  }
 ],
 "metadata": {
  "colab": {
   "collapsed_sections": [],
   "name": "main_yq.ipynb",
   "provenance": [],
   "version": "0.3.2"
  },
  "kernelspec": {
   "display_name": "Python 3",
   "language": "python",
   "name": "python3"
  },
  "language_info": {
   "codemirror_mode": {
    "name": "ipython",
    "version": 3
   },
   "file_extension": ".py",
   "mimetype": "text/x-python",
   "name": "python",
   "nbconvert_exporter": "python",
   "pygments_lexer": "ipython3",
   "version": "3.7.1"
  }
 },
 "nbformat": 4,
 "nbformat_minor": 1
}
