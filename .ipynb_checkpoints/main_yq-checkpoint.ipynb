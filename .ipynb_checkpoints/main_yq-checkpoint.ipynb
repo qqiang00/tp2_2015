{
 "cells": [
  {
   "cell_type": "raw",
   "metadata": {
    "colab": {
     "base_uri": "https://localhost:8080/",
     "height": 325
    },
    "colab_type": "code",
    "executionInfo": {
     "elapsed": 25301,
     "status": "ok",
     "timestamp": 1544817616668,
     "user": {
      "displayName": "Qiang YE",
      "photoUrl": "https://lh6.googleusercontent.com/-k-9mYNphfpc/AAAAAAAAAAI/AAAAAAAAARQ/zyID3sFntfM/s64/photo.jpg",
      "userId": "15200210150486633975"
     },
     "user_tz": 300
    },
    "id": "oY9T2jrUUGTH",
    "outputId": "08981aaa-90d0-4196-f2d4-2aaf48ce75b0"
   },
   "source": [
    "from google.colab import drive\n",
    "drive.mount('/content/drive/')\n",
    "import os\n",
    "os.chdir(\"drive/My Drive/Colab Notebooks/IFT2015/\")\n",
    "#check if you are in the right directory\n",
    "!ls"
   ]
  },
  {
   "cell_type": "code",
   "execution_count": 2,
   "metadata": {
    "colab": {},
    "colab_type": "code",
    "id": "BTs9HFZjUKoH"
   },
   "outputs": [],
   "source": [
    "import gzip\n",
    "from itertools import islice\n",
    "from graph_yq import DeBrujinGraph"
   ]
  },
  {
   "cell_type": "code",
   "execution_count": 3,
   "metadata": {
    "colab": {},
    "colab_type": "code",
    "id": "dGoQZDBxU4y9"
   },
   "outputs": [],
   "source": [
    "def read_fastq(path):\n",
    "    with gzip.open(path, 'rt') as f:\n",
    "        for line in f:\n",
    "            seqid, description = line[1:].rstrip().split(maxsplit=1)\n",
    "            sequence = f.readline().rstrip()\n",
    "            _ = f.readline()\n",
    "            quality = f.readline().rstrip()\n",
    "            yield seqid, description, sequence, quality"
   ]
  },
  {
   "cell_type": "code",
   "execution_count": 4,
   "metadata": {
    "colab": {},
    "colab_type": "code",
    "id": "56NajVr8VNI3"
   },
   "outputs": [],
   "source": [
    "k = 21\n",
    "kmers = []"
   ]
  },
  {
   "cell_type": "code",
   "execution_count": 5,
   "metadata": {
    "colab": {
     "base_uri": "https://localhost:8080/",
     "height": 53
    },
    "colab_type": "code",
    "executionInfo": {
     "elapsed": 4036,
     "status": "ok",
     "timestamp": 1544817648515,
     "user": {
      "displayName": "Qiang YE",
      "photoUrl": "https://lh6.googleusercontent.com/-k-9mYNphfpc/AAAAAAAAAAI/AAAAAAAAARQ/zyID3sFntfM/s64/photo.jpg",
      "userId": "15200210150486633975"
     },
     "user_tz": 300
    },
    "id": "QyEr1mjtVQAu",
    "outputId": "7e6cca00-92fa-41bc-aa29-1d6d3573ec2e"
   },
   "outputs": [
    {
     "name": "stdout",
     "output_type": "stream",
     "text": [
      "CPU times: user 1.6 s, sys: 156 ms, total: 1.75 s\n",
      "Wall time: 1.76 s\n"
     ]
    }
   ],
   "source": [
    "%%time\n",
    "for _, _, seq, _ in read_fastq('reads.fastq.gz'):\n",
    "    kmers.extend([seq[i:i+k] for i in range(len(seq) - k + 1)])"
   ]
  },
  {
   "cell_type": "code",
   "execution_count": 6,
   "metadata": {
    "colab": {
     "base_uri": "https://localhost:8080/",
     "height": 53
    },
    "colab_type": "code",
    "executionInfo": {
     "elapsed": 6445,
     "status": "ok",
     "timestamp": 1544817656810,
     "user": {
      "displayName": "Qiang YE",
      "photoUrl": "https://lh6.googleusercontent.com/-k-9mYNphfpc/AAAAAAAAAAI/AAAAAAAAARQ/zyID3sFntfM/s64/photo.jpg",
      "userId": "15200210150486633975"
     },
     "user_tz": 300
    },
    "id": "KrViQrjJVWue",
    "outputId": "7575e612-bf75-418d-bc6d-45a92faf50eb"
   },
   "outputs": [
    {
     "name": "stdout",
     "output_type": "stream",
     "text": [
      "CPU times: user 4.45 s, sys: 7.58 ms, total: 4.45 s\n",
      "Wall time: 4.47 s\n"
     ]
    }
   ],
   "source": [
    "%%time\n",
    "length = min(10000, len(kmers))\n",
    "graph = DeBrujinGraph(nodes = kmers[:length], k = 21)"
   ]
  },
  {
   "cell_type": "code",
   "execution_count": 7,
   "metadata": {
    "colab": {
     "base_uri": "https://localhost:8080/",
     "height": 53
    },
    "colab_type": "code",
    "executionInfo": {
     "elapsed": 1282,
     "status": "ok",
     "timestamp": 1544817660196,
     "user": {
      "displayName": "Qiang YE",
      "photoUrl": "https://lh6.googleusercontent.com/-k-9mYNphfpc/AAAAAAAAAAI/AAAAAAAAARQ/zyID3sFntfM/s64/photo.jpg",
      "userId": "15200210150486633975"
     },
     "user_tz": 300
    },
    "id": "Bqi3NTqDgDn4",
    "outputId": "f5cf5b98-1a9b-4b0b-f6ff-ffbd4e1de4b5"
   },
   "outputs": [
    {
     "name": "stdout",
     "output_type": "stream",
     "text": [
      "node counts: 10000\n",
      "in couting edges methods\n",
      "edge counts: 9875 9875\n"
     ]
    }
   ],
   "source": [
    "print(\"node counts:\", graph.node_count())\n",
    "print(\"edge counts:\", graph.edge_count(), graph._edge_num)"
   ]
  },
  {
   "cell_type": "markdown",
   "metadata": {
    "colab_type": "text",
    "id": "58eG_UjrY2Au"
   },
   "source": [
    "## Question 3 Parcour"
   ]
  },
  {
   "cell_type": "code",
   "execution_count": 8,
   "metadata": {
    "colab": {},
    "colab_type": "code",
    "id": "jcsEEe8yY0_n"
   },
   "outputs": [],
   "source": [
    "def DFS( g, u, discovered ):\n",
    "    \"\"\"deep first search of a graph.\n",
    "    params\n",
    "        g: a graph\n",
    "        u: a node of graph g\n",
    "        discovered: a dictionary marking where a edge is visited\n",
    "    return\n",
    "        None, discovered modified\n",
    "    \"\"\"\n",
    "    for v in g.successors( u ):\n",
    "        if v not in discovered:\n",
    "            discovered[v] = u # u represents parent node of v\n",
    "                              # v carries the edge information v[-1]\n",
    "            DFS( g, v, discovered )\n",
    "            \n",
    "            \n",
    "def build_fragment( g, u, v, discovered ):\n",
    "    \"\"\"build a fragment from node u to v based on the discovered paths in graph\n",
    "    params\n",
    "        g: graph\n",
    "        u: start node of a fragment, str\n",
    "        v: end node of a fragment, str\n",
    "        discovered: dictionary from a deep first search of a graph g\n",
    "    returns\n",
    "        fragment: str\n",
    "    \"\"\"\n",
    "    frag = []\n",
    "    if v in discovered:\n",
    "        walk = v\n",
    "        while walk is not u:\n",
    "            parent = discovered[walk]\n",
    "            frag.append(walk[-1])\n",
    "            walk = parent\n",
    "        # walk is now u\n",
    "        \n",
    "    frag.reverse()\n",
    "    frag = u + \"\".join(frag)\n",
    "    return frag"
   ]
  },
  {
   "cell_type": "code",
   "execution_count": 9,
   "metadata": {
    "colab": {},
    "colab_type": "code",
    "id": "M5TZWArTZ_qq"
   },
   "outputs": [],
   "source": [
    "# find the nodes who have no predecessors\n",
    "def find_nodes(g, has_no_predecessors = True):\n",
    "    \"\"\"find all nodes without predecessors or without successors controled by\n",
    "    a bool parameter\n",
    "    params\n",
    "        g: graph\n",
    "        has_no_predecessors: bool, if True, find all nodes without predecessors,\n",
    "            If False, find all nodes without successors\n",
    "    returns\n",
    "        results, list of nodes\n",
    "    \"\"\"\n",
    "    results = []\n",
    "    for node in g.nodes():\n",
    "        func = g.predecessors\n",
    "        if has_no_predecessors == False:\n",
    "            func = g.successors\n",
    "        if len(func(node)) == 0: # no predecessors\n",
    "            results.append(node)\n",
    "    return results           "
   ]
  },
  {
   "cell_type": "code",
   "execution_count": 10,
   "metadata": {
    "colab": {
     "base_uri": "https://localhost:8080/",
     "height": 53
    },
    "colab_type": "code",
    "executionInfo": {
     "elapsed": 6285,
     "status": "ok",
     "timestamp": 1544817690401,
     "user": {
      "displayName": "Qiang YE",
      "photoUrl": "https://lh6.googleusercontent.com/-k-9mYNphfpc/AAAAAAAAAAI/AAAAAAAAARQ/zyID3sFntfM/s64/photo.jpg",
      "userId": "15200210150486633975"
     },
     "user_tz": 300
    },
    "id": "cY0Bbgf_bRgk",
    "outputId": "8882b0fc-2e24-4cbd-ef67-fdcb39941bfe"
   },
   "outputs": [
    {
     "name": "stdout",
     "output_type": "stream",
     "text": [
      "CPU times: user 4.42 s, sys: 0 ns, total: 4.42 s\n",
      "Wall time: 4.42 s\n"
     ]
    }
   ],
   "source": [
    "%%time\n",
    "nodes_without_predecessors = find_nodes(graph)\n",
    "nodes_without_successors = find_nodes(graph, False)"
   ]
  },
  {
   "cell_type": "code",
   "execution_count": 11,
   "metadata": {
    "colab": {
     "base_uri": "https://localhost:8080/",
     "height": 73
    },
    "colab_type": "code",
    "executionInfo": {
     "elapsed": 394,
     "status": "ok",
     "timestamp": 1544817694501,
     "user": {
      "displayName": "Qiang YE",
      "photoUrl": "https://lh6.googleusercontent.com/-k-9mYNphfpc/AAAAAAAAAAI/AAAAAAAAARQ/zyID3sFntfM/s64/photo.jpg",
      "userId": "15200210150486633975"
     },
     "user_tz": 300
    },
    "id": "8VQyvwepgCIl",
    "outputId": "74d2c38f-bc2b-4687-b930-932707ffff9b"
   },
   "outputs": [
    {
     "name": "stdout",
     "output_type": "stream",
     "text": [
      "['CCAGCTCTTGAATCATCTGCG', 'ATGTGATGAATGTGATCGGCG', 'GCTGCTGCTTGCGTCTTGGGT', 'GTGAAGTTGAGAGGAGGAGAT', 'TGAAGAGGAGATGAGAAGCGG', 'AGAACCATTCTCGGAGGACAT', 'CCGAAGACCCCTCCCACTTTA', 'GCAGCTTGTTTCCTGTCAACA', 'TTGCAAAGACTACGCGGCTCG', 'ATTCCAAGAAGGTGATGAACT', 'AAATGTGGTTCTTCCAAATGG', 'GCCTCACTCCTCAACAAAGTC', 'ATATCATATCCGATCTGTTGA', 'GCTTCTTGATACAGTTCAGAT', 'TCTGGAGATATCTTCATCAGG', 'ATTGCTGCATTTTGGCCTCAA', 'GTTAGCACTTGGAAGACAATT', 'ACAGATTCATCAACACAAACT', 'ACTTGTCTACACGAAAACCTT', 'GATCTCGAAGCAGGCAGAAAT', 'CTTGCCGCCAATTTGCAACGA', 'GCTTTTCCGTTTAAATGTGCA', 'AAAGCCGATCTACTTGAAGAC', 'GTGTCATCATTCCTTCTCATG', 'GATGAAATGGAGCTGAAAAAG', 'TGCCTGTCGAACAGAATGGGA', 'AAGTCACGAATTGGCCCGTAC', 'ATTCCGAGGAACCAGAAGCAG', 'TCGGAATGTATCTCGTGATTT', 'CGTTGAGAGATTTGGTGGCTG', 'TATTCTATCCGTGTGTTCTTC', 'TGGGTACGGAAGCTATGGTGG', 'CGTTGAAGACGAAATTGTCAA', 'AACGTCATCATCGACGGAAGG', 'GATTTTAAAACTGAATATATG', 'AAATCCGACACATCAATTTGC', 'TGCAGCCTACGAAATGACTCC', 'GTCACAATAGAAGAGGAGAAG', 'AGCTCCCAGAAGTTGCAAGAG', 'ATTCCTTGACGCTTTCAACTT', 'GGAAATGTGAAAGAAGGCGAT', 'AAGAAGATGGCTCTAGAAAAG', 'ACTTCAAAACATCGGAAGAAT', 'AAATGATCGCAAAATAATAAA', 'CCAACTTTGCCGTTGGTGTTG', 'TCAACAATGAGCAGGCGGACA', 'CTTTTGATGATTTTCAGAGTT', 'AAGATTGTGCTGGATAATATT', 'ACAGTACTCACGTTAACGTGT', 'CAAAGCCAGTCATGGTTGGAA', 'CTATCTTATGATGTCATTTTC', 'CCAAATCTTCGAATGTTGACT', 'ACGAAGAAGAACGCCTTCTTC', 'TTGATGGAGGAGCATGCAAAA', 'TCATCATATGTTGTTAATCAT', 'CGGCAACCTCCCTATCGCCAA', 'GTATGCGTGGCGGCTTCCCAC', 'AAAAAGTCGGATATGGCAAAA', 'TGCTACACATCGAGAATCATA', 'AGGAACTCCAGGACAAGACGG', 'ACCACTTCTACTCCAGACGTC', 'CGATTGGAGGAATAATTGGTT', 'GCGGACGGAGTTTTTCGAGGA', 'TGGTTCAGTTTATGGGCATCA', 'CCGGCTGCATCGGCTCCGCCA', 'TGTCGTGGTCGAAGATGACGC', 'CAACACCTCTCTCCTGAACCT', 'CTTGGATGCATTCATAGTAAA', 'TTCCAAGCGAAGCGGGGATTG', 'TAAGGCACCAGCTCAACTTCA', 'CTACTATCCCCATACATCTTC', 'GATTTCTTTCACAAGTTTGGA', 'CAATCTTTTCCTCTGTGGACC', 'AAAGTCGTGACCGATGCAAAG', 'GAAGATGAACACAATGGAAGC', 'ATGTGTCATCTGAATCGAACC', 'CCAATTACTCCAAGTGCAAAT', 'GTTGAATGGGCTATTTCAAAC', 'CAGGACTTTAGCAAATTCAAT', 'GAGACTACATCATCCCATGAT', 'TCATCCCAACAAGTGAAGAAT', 'CGACAGAGTTTATAACTCGAA', 'TTACTACCCATCGGTTAATAA', 'ATGCTACAAGTAATTTGAACG', 'TTACTAAAGTTCCTATTTCAA', 'ATAATTGCCTATTGTTACTTG', 'TCATGCTATTATGGAACTGTT', 'GATAATAAAAACGACCCCTGC', 'GACGAGCTTTGCATAAATCTC', 'TGGCATCACAATGGATCACAA', 'CTGAAACCACCCCACTTCCAC', 'TCGAATTCATAATTTCTGTAA', 'GAGGGTTGCCAATTCGTTTCA', 'CGGAAGACCACGCAAACCGAC', 'CCGAGTCCGATCATCACTGGG', 'TCTAAACCTTTCGAATCAAAA', 'ACACGTCTTGCTGGAGACATT', 'ACTATTTTCATTCTTCGACGA', 'GAAAATGAGGCTGTCAAGGAG', 'TACCGTCGGATACCAACCCAA', 'TCACAGAGATGGAACTTATGC', 'TAACCAAATTGGGGCAAAGTT', 'CGTGGAAAGGACTTGGAGGCC', 'AAATTTACGATTCGAAAACCA', 'ACCTACTGGAGCGTCAACAAA', 'AAAAGTCAACTGCCAAAAGGA', 'CGGGCAAAAGCTTTTCGAAGC', 'TGGAATGAGCACCGAGTCGTC', 'GATAATGATATGACACTAACA', 'ATATGATTCAGTTCTACGGGT', 'AAGCGGTCACCGCGTCCGAAA', 'ACTTCGAAAGATCATATGGAT', 'TACAAGAAGCTCTTCATTTTG', 'GAAGCGGCACGAATCAAAGAT', 'TTACAGTGGAGGGCATCATAG', 'GGAATCGCTTGCACATTCTCG', 'TTGCTATCCGTACGAAGTGCT', 'GAATGGAGACAAATGAAGCTC', 'CCGCCAACAACAAGAAGGACT', 'TCGTCTGTTCATCTATTGCAA', 'CGGGACACTTATGAGCTTCTA', 'CTGTCGGAGGATGTTCAATGT', 'TGGAATGGTAGAGTCGAACTT', 'CCAGAACCAAAAATTGATCCT', 'TTTCGAGGTCGCACATTTAAT']\n",
      "125\n"
     ]
    }
   ],
   "source": [
    "print(nodes_without_predecessors)\n",
    "print(len(nodes_without_predecessors))"
   ]
  },
  {
   "cell_type": "code",
   "execution_count": 12,
   "metadata": {
    "colab": {
     "base_uri": "https://localhost:8080/",
     "height": 73
    },
    "colab_type": "code",
    "executionInfo": {
     "elapsed": 318,
     "status": "ok",
     "timestamp": 1544817698985,
     "user": {
      "displayName": "Qiang YE",
      "photoUrl": "https://lh6.googleusercontent.com/-k-9mYNphfpc/AAAAAAAAAAI/AAAAAAAAARQ/zyID3sFntfM/s64/photo.jpg",
      "userId": "15200210150486633975"
     },
     "user_tz": 300
    },
    "id": "wuk0RjrGqo6-",
    "outputId": "c3711585-368c-449e-d751-3e923a1d0664"
   },
   "outputs": [
    {
     "name": "stdout",
     "output_type": "stream",
     "text": [
      "['GAAACTCTGCTCACGGGCGAT', 'TTCGAACACAAACTTCATTAC', 'AGGGCCTCATACAGTTAACAT', 'ATTTGGAATTCTAATCGGTAT', 'CTTCGAAATCTTTCGGGGCCA', 'AACAAATCAAGACTTTAATGA', 'TCCGATTTGCAGTTGGAGAGA', 'TGAAAGTGTATCAGAAGAAAG', 'ATTCGGATGTGGCTATCGTAG', 'TGATGGATGAAGTTATTCGAG', 'TTGGGAGAATGGACTATCATT', 'AAGTATACACATGTCCGAGGG', 'TTGGTCAAGAAGCCACGTATC', 'AGATTACTTCCCATCAAATTC', 'CAAGTGGTTGTTTCAAAATAG', 'GAGAAACGTCGGATTGGCTTC', 'GTTGGAGGAAGAAGGAGAAGA', 'TCCGAAAACCAAACAGCACAG', 'GGAAGTCAAAGGAAGATGGCA', 'ACAAGACAAACACGTGCTCCA', 'AAGACCCCGACAATGTGAAAG', 'AAATCGACGATTTAATTGGAG', 'TCAATCCATATGTGCTAAGCC', 'AGTTAAACACCCAAAAATGGT', 'AAAGGATAAAATGTTGTTAGT', 'TTCATGCTCAGTTGATGAAAG', 'GCCTACAGTTTTTATGGAAAA', 'GGGACTACGGCGACTAATAAA', 'CGGCGAAATCACAAATTCTGC', 'CAAGGCAGAGCCAGTACTTGG', 'TGCCACGTGTCAAAGTGATCG', 'GAATTTCATGGTAGCAATGAA', 'CTCACTGCTGAAGAAACACCT', 'TGAGCATCGGTTGTGCCGTCG', 'AAGCCAGGGATCAACAGAAAT', 'GATGACGAGACAGATCAAGAA', 'AGTGCCTTGGAATCCGATCAT', 'AAGGAGATGTATGTTTTATTG', 'CAGAGACACGTCATTAGTGGT', 'TTGTCGAAGGAATGCCAGCAT', 'ACTATTAATGGACCGTTTGGA', 'CAATTCGTCTTCTTCTTGGAA', 'TTCGAGAAGATGCTCAACGTG', 'GAGCACGTAAAAGGAAGTCCA', 'CCGGGGGAGCAGTTTGGGTAT', 'CCTCAAGCAATTGAGAATAAA', 'TGGGTTGCCCATGATTGGATT', 'AATTGATATGAGAGCATCTGG', 'GAAGGTTTCAGTATCAGCAAC', 'CCCGGATTGTAGTCAAGGTGC', 'AAAACTATTGGAGATCATTCT', 'GCCGAGGACTTCTAGTGGATG', 'TCATTGCATCCAGCTACAAAA', 'CGGATGCAAAATGCACGTCTC', 'GTCGAGCAGAATGATCAGGAA', 'TAACCGATTGTTATGTTGTTG', 'ATGGCTAGAGGCTGTCCAATG', 'CCTGAGCTGGAAGCCTTGCTC', 'GAAAAACAAGTGTGTGTTGTG', 'ATATGGAATTGCAACATATCG', 'TCATCAGACGATCTTACTCTT', 'CAATATACACTGGATTCATGT', 'TGACAAGTGCGCAAGATGTTG', 'AACAATCGGGTGCAGTTCACC', 'GAACCCGGACGGAACCGCAAA', 'ACTAGTAATTTGGTGGGCAGA', 'ACCTGTCTCGCGCCGGATTAC', 'GTGCATTAAAATCGCTACTCG', 'TATTATTGAGGGCTGCACAAT', 'AGTACGAAAGCCGGCAAAAAG', 'CGGATCCGGGTATGAACGGGG', 'CTCCGGATTACATTGCACCAG', 'GCAACATTGCCCGTGAAGTCA', 'ACAGGGCCTTCCGCCTGGTAT', 'CATACTCTTATTGCTTTGCGT', 'CGACTATCAAAGTTTACATCG', 'GTGAGCTCTTTCCAAGCGCCG', 'AGTGTGTGTTTAGTACTGGGA', 'TTCACATTTTGCCCTGGATAT', 'AGCATAACAGATACTTTGTCG', 'AACTCCCCAGCAGCAGTTAAA', 'AAGTCAAAAATGGAGATGTCT', 'ACTAATCCTAAAACTGATTCC', 'GGGCGGTGATTAAGAAAAAGG', 'GGCAGCCTTTTGGGACGGACA', 'GATTGATGGCTCAAATTCCAA', 'TCATTTTTTCTACCCAATATC', 'CTCTTGTTGTTAAACGTCGAA', 'CGGGAATTAATGGTCAGCACG', 'GGAGTCGCTGGACGCCCAGGA', 'GAGTGATTAAAATGCTCATTG', 'TTATCATGCAAGTAGCTATGG', 'GCTTACCTCGCAGCCACCATT', 'CTTGGAAAACGACACGTGGCA', 'TAGCGGATCGACACCCAGAGA', 'TAAGGAAAAGGACACTATTTA', 'GGCCTAACAATACTGGAATAT', 'TTGCTCGCCAAGCTGGTGGTG', 'AGAAAATCAACGAATACATGA', 'GAAGCCCAGCTGGAAACTGTG', 'TCAGGAAATTTCTACCCCTGC', 'ATTCAGAACGTTTACCTACCT', 'CCCGCACCAAAAACAAAAATC', 'ACGTTGTCGACTACGCCACGG', 'CAAGCGATCCACCGGCTGAAT', 'GAGACAACAACCGTCATCCAC', 'AAACAACAGAACTCCAGTCAA', 'GAACAACTCGTCTCGGAGATT', 'TTTATTTTCACGAAGAACGTC', 'CGATAACCCAGAAGTCACCGA', 'CTTGTGCTGCATTCTTCAGAA', 'TCATACTTAATCGATGGAACT', 'CTGTCGCGGCTGCTAGCAAAC', 'ACTCTTCCTCGTCCACTTCAT', 'CTGACGACTAGCGATCCGTGC', 'CAGAACAGCCAAAGGAAGAGC', 'TCCGAGTGTGCACAGCATCAT', 'TGAAGAAAGAACAAGCAATCT', 'TCAATCAGAACTTGATTCGAG', 'AAAAGACAGTCACGAATGATC', 'AACTTCAGAAGCTCAGCTCCT', 'TGGATGTCCAATTGGAGATGT', 'TCAAAGGAGCAAAAGAGGCTC', 'TCCACTTGCCTATCTGGAACC', 'AAGATGTCAAAGTGGAAGCTA']\n",
      "125\n"
     ]
    }
   ],
   "source": [
    "print(nodes_without_successors)\n",
    "print(len(nodes_without_successors))"
   ]
  },
  {
   "cell_type": "code",
   "execution_count": 13,
   "metadata": {
    "colab": {},
    "colab_type": "code",
    "id": "NSr71Y7Cfbbu"
   },
   "outputs": [],
   "source": [
    "fragments = []\n",
    "for origin_node in nodes_without_predecessors:\n",
    "    discovered = {origin_node: '-'}\n",
    "    DFS(graph, origin_node, discovered)\n",
    "    for dest_node in nodes_without_successors:\n",
    "        if discovered.get(dest_node, None) is not None:\n",
    "            fragment = build_fragment(graph, origin_node, dest_node, discovered)\n",
    "            fragments.append(fragment)"
   ]
  },
  {
   "cell_type": "code",
   "execution_count": 14,
   "metadata": {
    "colab": {
     "base_uri": "https://localhost:8080/",
     "height": 35
    },
    "colab_type": "code",
    "executionInfo": {
     "elapsed": 389,
     "status": "ok",
     "timestamp": 1544818011211,
     "user": {
      "displayName": "Qiang YE",
      "photoUrl": "https://lh6.googleusercontent.com/-k-9mYNphfpc/AAAAAAAAAAI/AAAAAAAAARQ/zyID3sFntfM/s64/photo.jpg",
      "userId": "15200210150486633975"
     },
     "user_tz": 300
    },
    "id": "1_XqGkShU_yP",
    "outputId": "f833ac41-5276-4b65-c3ae-65d8cada0bf2"
   },
   "outputs": [
    {
     "name": "stdout",
     "output_type": "stream",
     "text": [
      "125\n"
     ]
    }
   ],
   "source": [
    "print(len(fragments))"
   ]
  },
  {
   "cell_type": "code",
   "execution_count": 15,
   "metadata": {
    "colab": {
     "base_uri": "https://localhost:8080/",
     "height": 55
    },
    "colab_type": "code",
    "executionInfo": {
     "elapsed": 318,
     "status": "ok",
     "timestamp": 1544818042053,
     "user": {
      "displayName": "Qiang YE",
      "photoUrl": "https://lh6.googleusercontent.com/-k-9mYNphfpc/AAAAAAAAAAI/AAAAAAAAARQ/zyID3sFntfM/s64/photo.jpg",
      "userId": "15200210150486633975"
     },
     "user_tz": 300
    },
    "id": "chdwiyzJVGIK",
    "outputId": "111213c8-c3f5-40cd-a517-eb4d2a37542e"
   },
   "outputs": [
    {
     "name": "stdout",
     "output_type": "stream",
     "text": [
      "ATGTGATGAATGTGATCGGCGAGGCAAAACAACTGTTGGCATCCAGCCCAACACCTGCAACGTTCTTCGGCATCTATTACGATAACCCAGAAGTCACCGA\n"
     ]
    }
   ],
   "source": [
    "print(fragments[1])"
   ]
  },
  {
   "cell_type": "code",
   "execution_count": 16,
   "metadata": {
    "colab": {
     "base_uri": "https://localhost:8080/",
     "height": 109
    },
    "colab_type": "code",
    "executionInfo": {
     "elapsed": 415,
     "status": "ok",
     "timestamp": 1544818280331,
     "user": {
      "displayName": "Qiang YE",
      "photoUrl": "https://lh6.googleusercontent.com/-k-9mYNphfpc/AAAAAAAAAAI/AAAAAAAAARQ/zyID3sFntfM/s64/photo.jpg",
      "userId": "15200210150486633975"
     },
     "user_tz": 300
    },
    "id": "B6QPhRVjVR-Z",
    "outputId": "0b2ee13e-86ed-4a48-cba3-00c3e9c44871"
   },
   "outputs": [
    {
     "name": "stdout",
     "output_type": "stream",
     "text": [
      "seq:  ACTGAGTCATGGATG\n",
      "kmers:  ['ACT', 'CTG', 'TGA', 'GAG', 'AGT', 'GTC', 'TCA', 'CAT', 'ATG', 'TGG', 'GGA', 'GAT', 'ATG']\n",
      "initialize graph with kmers and k\n",
      "in couting edges methods\n",
      "G( 12 nodes{ CAT CTG AGT GTC TGA ATG ACT GAT GAG TCA GGA TGG }, 16 edges{ ('CAT', 'ATG') ('CTG', 'TGA') ('CTG', 'TGG') ('AGT', 'GTC') ('GTC', 'TCA') ('TGA', 'GAT') ('TGA', 'GAG') ('ATG', 'TGA') ('ATG', 'TGG') ('ACT', 'CTG') ('GAT', 'ATG') ('GAG', 'AGT') ('TCA', 'CAT') ('GGA', 'GAT') ('GGA', 'GAG') ('TGG', 'GGA') } )\n"
     ]
    }
   ],
   "source": [
    "# Test\n",
    "\n",
    "seq = \"ATGTGATGAATGTGATCGGCGAGGCAAAACAACTGTTGGCATCCAGCCCAACACCTGCAACGTTCTTCGGCATCTATTACGATAACCCAGAAGTCACCGA\"\n",
    "k = 3\n",
    "kmers = [seq[i:i+k] for i in range(len(seq) - k + 1)]\n",
    "print(\"seq: \", seq)\n",
    "print(\"kmers: \", kmers)\n",
    "\n",
    "print(\"initialize graph with kmers and k\")\n",
    "graph2 = DeBrujinGraph(kmers, k = k)\n",
    "print(graph2)"
   ]
  },
  {
   "cell_type": "code",
   "execution_count": 17,
   "metadata": {
    "colab": {},
    "colab_type": "code",
    "id": "bS_yI8f-Vxvk"
   },
   "outputs": [],
   "source": [
    "start_nodes = find_nodes(graph2)\n",
    "end_nodes = find_nodes(graph2, False)"
   ]
  },
  {
   "cell_type": "code",
   "execution_count": 18,
   "metadata": {
    "colab": {
     "base_uri": "https://localhost:8080/",
     "height": 53
    },
    "colab_type": "code",
    "executionInfo": {
     "elapsed": 320,
     "status": "ok",
     "timestamp": 1544818283183,
     "user": {
      "displayName": "Qiang YE",
      "photoUrl": "https://lh6.googleusercontent.com/-k-9mYNphfpc/AAAAAAAAAAI/AAAAAAAAARQ/zyID3sFntfM/s64/photo.jpg",
      "userId": "15200210150486633975"
     },
     "user_tz": 300
    },
    "id": "XWwDjNtKV4t6",
    "outputId": "cea48c1a-fae9-4731-e471-9de0f5a5813e"
   },
   "outputs": [
    {
     "name": "stdout",
     "output_type": "stream",
     "text": [
      "['ACT']\n",
      "[]\n"
     ]
    }
   ],
   "source": [
    "print(start_nodes)\n",
    "print(end_nodes)"
   ]
  },
  {
   "cell_type": "code",
   "execution_count": 19,
   "metadata": {
    "colab": {},
    "colab_type": "code",
    "id": "P9-_WvJDhtr4"
   },
   "outputs": [],
   "source": [
    "def read_fasta(path):\n",
    "    with gzip.open(path, 'rt') as f:\n",
    "        accession, description, seq = None, None, None\n",
    "        for line in f:\n",
    "            if line[0] == '>':\n",
    "                # yield current record\n",
    "                if accession is not None:\n",
    "                    yield accession, description, seq\n",
    "                    \n",
    "                # start a new record\n",
    "                accession, description = line[1:].rstrip().split(maxsplit=1)\n",
    "                seq = ''\n",
    "            else:\n",
    "                seq += line.rstrip()"
   ]
  },
  {
   "cell_type": "code",
   "execution_count": 21,
   "metadata": {
    "colab": {
     "base_uri": "https://localhost:8080/",
     "height": 858
    },
    "colab_type": "code",
    "executionInfo": {
     "elapsed": 312,
     "status": "error",
     "timestamp": 1544821383217,
     "user": {
      "displayName": "Qiang YE",
      "photoUrl": "https://lh6.googleusercontent.com/-k-9mYNphfpc/AAAAAAAAAAI/AAAAAAAAARQ/zyID3sFntfM/s64/photo.jpg",
      "userId": "15200210150486633975"
     },
     "user_tz": 300
    },
    "id": "D4kKoj0bhKit",
    "outputId": "e950842f-2a17-4c99-eb66-76ea9af03eca"
   },
   "outputs": [
    {
     "data": {
      "image/png": "[encoded data removed]",
      "text/plain": [
       "<Figure size 1152x576 with 1 Axes>"
      ]
     },
     "metadata": {},
     "output_type": "display_data"
    }
   ],
   "source": [
    "import networkx as nx\n",
    "%matplotlib inline\n",
    "import matplotlib.pyplot as plt\n",
    "\n",
    "def edges(kmers_graph):\n",
    "    for k in kmers_graph:\n",
    "        for s in 'ATCG':\n",
    "            successor = k[1:] + s\n",
    "            if successor in kmers_graph:\n",
    "                yield k, successor\n",
    "\n",
    "\n",
    "plt.figure(figsize=(20,10))\n",
    "g = nx.DiGraph()\n",
    "g.add_nodes_from(graph2)\n",
    "g.add_edges_from((u, v, {'label': v[-1]}) for u, v in edges(graph2))\n",
    "nx.draw(g, pos=nx.drawing.nx_agraph.graphviz_layout(g), with_labels=True, node_size=3000)\n",
    "nx.draw_networkx_edge_labels(g, pos=nx.drawing.nx_agraph.graphviz_layout(g), edge_labels=nx.get_edge_attributes(g, 'label'))\n",
    "plt.show()"
   ]
  },
  {
   "cell_type": "code",
   "execution_count": null,
   "metadata": {},
   "outputs": [],
   "source": [
    "\n"
   ]
  }
 ],
 "metadata": {
  "colab": {
   "collapsed_sections": [],
   "name": "main_yq.ipynb",
   "provenance": [],
   "version": "0.3.2"
  },
  "kernelspec": {
   "display_name": "Python 3",
   "language": "python",
   "name": "python3"
  },
  "language_info": {
   "codemirror_mode": {
    "name": "ipython",
    "version": 3
   },
   "file_extension": ".py",
   "mimetype": "text/x-python",
   "name": "python",
   "nbconvert_exporter": "python",
   "pygments_lexer": "ipython3",
   "version": "3.7.1"
  }
 },
 "nbformat": 4,
 "nbformat_minor": 1
}
