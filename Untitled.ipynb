{
 "cells": [
  {
   "cell_type": "code",
   "execution_count": 7,
   "metadata": {},
   "outputs": [
    {
     "name": "stdout",
     "output_type": "stream",
     "text": [
      "X=-inf, y=4\n",
      "X=-8, y=4\n",
      "X=0, y=4\n",
      "X=4, y=3000\n",
      "X=4, y=3000\n",
      "X=45, y=3000\n",
      "X=45, y=3000\n",
      "X=45, y=3000\n",
      "X=45, y=3000\n",
      "(45, 3000)\n"
     ]
    }
   ],
   "source": [
    "def B(data):\n",
    "    x = float('-inf')\n",
    "    y = float('-inf')\n",
    "    for i in data:\n",
    "        if i > y:\n",
    "            x, y = y, i\n",
    "        elif i > x:\n",
    "            x = i\n",
    "        print(\"X={}, y={}\".format(x, y))\n",
    "    return (x, y)\n",
    "\n",
    "data = [4, -8, 0 ,3000, -1234, 45, 3, -6, -100]\n",
    "print(str(B(data)))"
   ]
  },
  {
   "cell_type": "code",
   "execution_count": null,
   "metadata": {},
   "outputs": [],
   "source": [
    "def present_1(data, i, element):\n",
    "    if i == len(data):\n",
    "        return False\n",
    "    else:\n",
    "        return ((data[i] == element) or present_1(data, i+1, element))\n",
    "              "
   ]
  }
 ],
 "metadata": {
  "kernelspec": {
   "display_name": "Python 3",
   "language": "python",
   "name": "python3"
  },
  "language_info": {
   "codemirror_mode": {
    "name": "ipython",
    "version": 3
   },
   "file_extension": ".py",
   "mimetype": "text/x-python",
   "name": "python",
   "nbconvert_exporter": "python",
   "pygments_lexer": "ipython3",
   "version": "3.7.1"
  }
 },
 "nbformat": 4,
 "nbformat_minor": 2
}
